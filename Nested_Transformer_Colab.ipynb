{
  "nbformat": 4,
  "nbformat_minor": 0,
  "metadata": {
    "colab": {
      "name": "Nested_Transformer_Colab.ipynb",
      "provenance": [],
      "collapsed_sections": [],
      "toc_visible": true
    },
    "kernelspec": {
      "display_name": "Python 3",
      "name": "python3"
    },
    "accelerator": "GPU",
    "widgets": {
      "application/vnd.jupyter.widget-state+json": {
        "fee2858f56a0410f9b0b5d67272907dc": {
          "model_module": "@jupyter-widgets/controls",
          "model_name": "HBoxModel",
          "state": {
            "_view_name": "HBoxView",
            "_dom_classes": [],
            "_model_name": "HBoxModel",
            "_view_module": "@jupyter-widgets/controls",
            "_model_module_version": "1.5.0",
            "_view_count": null,
            "_view_module_version": "1.5.0",
            "box_style": "",
            "layout": "IPY_MODEL_db945a5a2972430daaf46db127730018",
            "_model_module": "@jupyter-widgets/controls",
            "children": [
              "IPY_MODEL_69c5c675a1024a07aff24cc6d61da62e",
              "IPY_MODEL_a51679c7d1874d159737f24478f65df4"
            ]
          }
        },
        "db945a5a2972430daaf46db127730018": {
          "model_module": "@jupyter-widgets/base",
          "model_name": "LayoutModel",
          "state": {
            "_view_name": "LayoutView",
            "grid_template_rows": null,
            "right": null,
            "justify_content": null,
            "_view_module": "@jupyter-widgets/base",
            "overflow": null,
            "_model_module_version": "1.2.0",
            "_view_count": null,
            "flex_flow": null,
            "width": null,
            "min_width": null,
            "border": null,
            "align_items": null,
            "bottom": null,
            "_model_module": "@jupyter-widgets/base",
            "top": null,
            "grid_column": null,
            "overflow_y": null,
            "overflow_x": null,
            "grid_auto_flow": null,
            "grid_area": null,
            "grid_template_columns": null,
            "flex": null,
            "_model_name": "LayoutModel",
            "justify_items": null,
            "grid_row": null,
            "max_height": null,
            "align_content": null,
            "visibility": null,
            "align_self": null,
            "height": null,
            "min_height": null,
            "padding": null,
            "grid_auto_rows": null,
            "grid_gap": null,
            "max_width": null,
            "order": null,
            "_view_module_version": "1.2.0",
            "grid_template_areas": null,
            "object_position": null,
            "object_fit": null,
            "grid_auto_columns": null,
            "margin": null,
            "display": null,
            "left": null
          }
        },
        "69c5c675a1024a07aff24cc6d61da62e": {
          "model_module": "@jupyter-widgets/controls",
          "model_name": "FloatProgressModel",
          "state": {
            "_view_name": "ProgressView",
            "style": "IPY_MODEL_b237cc13a89b4abd9981702c2c3ad7bd",
            "_dom_classes": [],
            "description": "Dl Completed...: 100%",
            "_model_name": "FloatProgressModel",
            "bar_style": "success",
            "max": 1,
            "_view_module": "@jupyter-widgets/controls",
            "_model_module_version": "1.5.0",
            "value": 1,
            "_view_count": null,
            "_view_module_version": "1.5.0",
            "orientation": "horizontal",
            "min": 0,
            "description_tooltip": null,
            "_model_module": "@jupyter-widgets/controls",
            "layout": "IPY_MODEL_0162853d31334d4f862efa3ecc16b4ca"
          }
        },
        "a51679c7d1874d159737f24478f65df4": {
          "model_module": "@jupyter-widgets/controls",
          "model_name": "HTMLModel",
          "state": {
            "_view_name": "HTMLView",
            "style": "IPY_MODEL_9af6e0169522414d91e554da0ec3f932",
            "_dom_classes": [],
            "description": "",
            "_model_name": "HTMLModel",
            "placeholder": "​",
            "_view_module": "@jupyter-widgets/controls",
            "_model_module_version": "1.5.0",
            "value": " 1/1 [00:05&lt;00:00,  5.44s/ url]",
            "_view_count": null,
            "_view_module_version": "1.5.0",
            "description_tooltip": null,
            "_model_module": "@jupyter-widgets/controls",
            "layout": "IPY_MODEL_2edb00e2319e4a82aadf050a36374485"
          }
        },
        "b237cc13a89b4abd9981702c2c3ad7bd": {
          "model_module": "@jupyter-widgets/controls",
          "model_name": "ProgressStyleModel",
          "state": {
            "_view_name": "StyleView",
            "_model_name": "ProgressStyleModel",
            "description_width": "initial",
            "_view_module": "@jupyter-widgets/base",
            "_model_module_version": "1.5.0",
            "_view_count": null,
            "_view_module_version": "1.2.0",
            "bar_color": null,
            "_model_module": "@jupyter-widgets/controls"
          }
        },
        "0162853d31334d4f862efa3ecc16b4ca": {
          "model_module": "@jupyter-widgets/base",
          "model_name": "LayoutModel",
          "state": {
            "_view_name": "LayoutView",
            "grid_template_rows": null,
            "right": null,
            "justify_content": null,
            "_view_module": "@jupyter-widgets/base",
            "overflow": null,
            "_model_module_version": "1.2.0",
            "_view_count": null,
            "flex_flow": null,
            "width": null,
            "min_width": null,
            "border": null,
            "align_items": null,
            "bottom": null,
            "_model_module": "@jupyter-widgets/base",
            "top": null,
            "grid_column": null,
            "overflow_y": null,
            "overflow_x": null,
            "grid_auto_flow": null,
            "grid_area": null,
            "grid_template_columns": null,
            "flex": null,
            "_model_name": "LayoutModel",
            "justify_items": null,
            "grid_row": null,
            "max_height": null,
            "align_content": null,
            "visibility": null,
            "align_self": null,
            "height": null,
            "min_height": null,
            "padding": null,
            "grid_auto_rows": null,
            "grid_gap": null,
            "max_width": null,
            "order": null,
            "_view_module_version": "1.2.0",
            "grid_template_areas": null,
            "object_position": null,
            "object_fit": null,
            "grid_auto_columns": null,
            "margin": null,
            "display": null,
            "left": null
          }
        },
        "9af6e0169522414d91e554da0ec3f932": {
          "model_module": "@jupyter-widgets/controls",
          "model_name": "DescriptionStyleModel",
          "state": {
            "_view_name": "StyleView",
            "_model_name": "DescriptionStyleModel",
            "description_width": "",
            "_view_module": "@jupyter-widgets/base",
            "_model_module_version": "1.5.0",
            "_view_count": null,
            "_view_module_version": "1.2.0",
            "_model_module": "@jupyter-widgets/controls"
          }
        },
        "2edb00e2319e4a82aadf050a36374485": {
          "model_module": "@jupyter-widgets/base",
          "model_name": "LayoutModel",
          "state": {
            "_view_name": "LayoutView",
            "grid_template_rows": null,
            "right": null,
            "justify_content": null,
            "_view_module": "@jupyter-widgets/base",
            "overflow": null,
            "_model_module_version": "1.2.0",
            "_view_count": null,
            "flex_flow": null,
            "width": null,
            "min_width": null,
            "border": null,
            "align_items": null,
            "bottom": null,
            "_model_module": "@jupyter-widgets/base",
            "top": null,
            "grid_column": null,
            "overflow_y": null,
            "overflow_x": null,
            "grid_auto_flow": null,
            "grid_area": null,
            "grid_template_columns": null,
            "flex": null,
            "_model_name": "LayoutModel",
            "justify_items": null,
            "grid_row": null,
            "max_height": null,
            "align_content": null,
            "visibility": null,
            "align_self": null,
            "height": null,
            "min_height": null,
            "padding": null,
            "grid_auto_rows": null,
            "grid_gap": null,
            "max_width": null,
            "order": null,
            "_view_module_version": "1.2.0",
            "grid_template_areas": null,
            "object_position": null,
            "object_fit": null,
            "grid_auto_columns": null,
            "margin": null,
            "display": null,
            "left": null
          }
        },
        "d418ffa56a054078b5e51834397f5a3a": {
          "model_module": "@jupyter-widgets/controls",
          "model_name": "HBoxModel",
          "state": {
            "_view_name": "HBoxView",
            "_dom_classes": [],
            "_model_name": "HBoxModel",
            "_view_module": "@jupyter-widgets/controls",
            "_model_module_version": "1.5.0",
            "_view_count": null,
            "_view_module_version": "1.5.0",
            "box_style": "",
            "layout": "IPY_MODEL_222ad659fe8e4c5786ff2ff6343b097c",
            "_model_module": "@jupyter-widgets/controls",
            "children": [
              "IPY_MODEL_e9ee94401e8e4ec391e6a0e8269f127c",
              "IPY_MODEL_8fee994a72794963a03ec56c5171e558"
            ]
          }
        },
        "222ad659fe8e4c5786ff2ff6343b097c": {
          "model_module": "@jupyter-widgets/base",
          "model_name": "LayoutModel",
          "state": {
            "_view_name": "LayoutView",
            "grid_template_rows": null,
            "right": null,
            "justify_content": null,
            "_view_module": "@jupyter-widgets/base",
            "overflow": null,
            "_model_module_version": "1.2.0",
            "_view_count": null,
            "flex_flow": null,
            "width": null,
            "min_width": null,
            "border": null,
            "align_items": null,
            "bottom": null,
            "_model_module": "@jupyter-widgets/base",
            "top": null,
            "grid_column": null,
            "overflow_y": null,
            "overflow_x": null,
            "grid_auto_flow": null,
            "grid_area": null,
            "grid_template_columns": null,
            "flex": null,
            "_model_name": "LayoutModel",
            "justify_items": null,
            "grid_row": null,
            "max_height": null,
            "align_content": null,
            "visibility": null,
            "align_self": null,
            "height": null,
            "min_height": null,
            "padding": null,
            "grid_auto_rows": null,
            "grid_gap": null,
            "max_width": null,
            "order": null,
            "_view_module_version": "1.2.0",
            "grid_template_areas": null,
            "object_position": null,
            "object_fit": null,
            "grid_auto_columns": null,
            "margin": null,
            "display": null,
            "left": null
          }
        },
        "e9ee94401e8e4ec391e6a0e8269f127c": {
          "model_module": "@jupyter-widgets/controls",
          "model_name": "FloatProgressModel",
          "state": {
            "_view_name": "ProgressView",
            "style": "IPY_MODEL_1268473b658c4db0a8b92c8ec10478d5",
            "_dom_classes": [],
            "description": "Dl Size...: 100%",
            "_model_name": "FloatProgressModel",
            "bar_style": "success",
            "max": 1,
            "_view_module": "@jupyter-widgets/controls",
            "_model_module_version": "1.5.0",
            "value": 1,
            "_view_count": null,
            "_view_module_version": "1.5.0",
            "orientation": "horizontal",
            "min": 0,
            "description_tooltip": null,
            "_model_module": "@jupyter-widgets/controls",
            "layout": "IPY_MODEL_e86522d3158b408d9ac44e564e146cc7"
          }
        },
        "8fee994a72794963a03ec56c5171e558": {
          "model_module": "@jupyter-widgets/controls",
          "model_name": "HTMLModel",
          "state": {
            "_view_name": "HTMLView",
            "style": "IPY_MODEL_0f0c2227da6549dea60f847cc06d454a",
            "_dom_classes": [],
            "description": "",
            "_model_name": "HTMLModel",
            "placeholder": "​",
            "_view_module": "@jupyter-widgets/controls",
            "_model_module_version": "1.5.0",
            "value": " 162/162 [00:05&lt;00:00, 29.99 MiB/s]",
            "_view_count": null,
            "_view_module_version": "1.5.0",
            "description_tooltip": null,
            "_model_module": "@jupyter-widgets/controls",
            "layout": "IPY_MODEL_6d69db18cf594beeb3ba9b5feb8b82d9"
          }
        },
        "1268473b658c4db0a8b92c8ec10478d5": {
          "model_module": "@jupyter-widgets/controls",
          "model_name": "ProgressStyleModel",
          "state": {
            "_view_name": "StyleView",
            "_model_name": "ProgressStyleModel",
            "description_width": "initial",
            "_view_module": "@jupyter-widgets/base",
            "_model_module_version": "1.5.0",
            "_view_count": null,
            "_view_module_version": "1.2.0",
            "bar_color": null,
            "_model_module": "@jupyter-widgets/controls"
          }
        },
        "e86522d3158b408d9ac44e564e146cc7": {
          "model_module": "@jupyter-widgets/base",
          "model_name": "LayoutModel",
          "state": {
            "_view_name": "LayoutView",
            "grid_template_rows": null,
            "right": null,
            "justify_content": null,
            "_view_module": "@jupyter-widgets/base",
            "overflow": null,
            "_model_module_version": "1.2.0",
            "_view_count": null,
            "flex_flow": null,
            "width": null,
            "min_width": null,
            "border": null,
            "align_items": null,
            "bottom": null,
            "_model_module": "@jupyter-widgets/base",
            "top": null,
            "grid_column": null,
            "overflow_y": null,
            "overflow_x": null,
            "grid_auto_flow": null,
            "grid_area": null,
            "grid_template_columns": null,
            "flex": null,
            "_model_name": "LayoutModel",
            "justify_items": null,
            "grid_row": null,
            "max_height": null,
            "align_content": null,
            "visibility": null,
            "align_self": null,
            "height": null,
            "min_height": null,
            "padding": null,
            "grid_auto_rows": null,
            "grid_gap": null,
            "max_width": null,
            "order": null,
            "_view_module_version": "1.2.0",
            "grid_template_areas": null,
            "object_position": null,
            "object_fit": null,
            "grid_auto_columns": null,
            "margin": null,
            "display": null,
            "left": null
          }
        },
        "0f0c2227da6549dea60f847cc06d454a": {
          "model_module": "@jupyter-widgets/controls",
          "model_name": "DescriptionStyleModel",
          "state": {
            "_view_name": "StyleView",
            "_model_name": "DescriptionStyleModel",
            "description_width": "",
            "_view_module": "@jupyter-widgets/base",
            "_model_module_version": "1.5.0",
            "_view_count": null,
            "_view_module_version": "1.2.0",
            "_model_module": "@jupyter-widgets/controls"
          }
        },
        "6d69db18cf594beeb3ba9b5feb8b82d9": {
          "model_module": "@jupyter-widgets/base",
          "model_name": "LayoutModel",
          "state": {
            "_view_name": "LayoutView",
            "grid_template_rows": null,
            "right": null,
            "justify_content": null,
            "_view_module": "@jupyter-widgets/base",
            "overflow": null,
            "_model_module_version": "1.2.0",
            "_view_count": null,
            "flex_flow": null,
            "width": null,
            "min_width": null,
            "border": null,
            "align_items": null,
            "bottom": null,
            "_model_module": "@jupyter-widgets/base",
            "top": null,
            "grid_column": null,
            "overflow_y": null,
            "overflow_x": null,
            "grid_auto_flow": null,
            "grid_area": null,
            "grid_template_columns": null,
            "flex": null,
            "_model_name": "LayoutModel",
            "justify_items": null,
            "grid_row": null,
            "max_height": null,
            "align_content": null,
            "visibility": null,
            "align_self": null,
            "height": null,
            "min_height": null,
            "padding": null,
            "grid_auto_rows": null,
            "grid_gap": null,
            "max_width": null,
            "order": null,
            "_view_module_version": "1.2.0",
            "grid_template_areas": null,
            "object_position": null,
            "object_fit": null,
            "grid_auto_columns": null,
            "margin": null,
            "display": null,
            "left": null
          }
        },
        "2bd431bb5fa14d438dd843a13b82e2c5": {
          "model_module": "@jupyter-widgets/controls",
          "model_name": "HBoxModel",
          "state": {
            "_view_name": "HBoxView",
            "_dom_classes": [],
            "_model_name": "HBoxModel",
            "_view_module": "@jupyter-widgets/controls",
            "_model_module_version": "1.5.0",
            "_view_count": null,
            "_view_module_version": "1.5.0",
            "box_style": "",
            "layout": "IPY_MODEL_149e917e655741c28d8612aa4c8cbc79",
            "_model_module": "@jupyter-widgets/controls",
            "children": [
              "IPY_MODEL_c5788c28bfd74bd4ac7f0ceba48fc568",
              "IPY_MODEL_0d262ef8ae8e4f388e7ef36cdb972d05"
            ]
          }
        },
        "149e917e655741c28d8612aa4c8cbc79": {
          "model_module": "@jupyter-widgets/base",
          "model_name": "LayoutModel",
          "state": {
            "_view_name": "LayoutView",
            "grid_template_rows": null,
            "right": null,
            "justify_content": null,
            "_view_module": "@jupyter-widgets/base",
            "overflow": null,
            "_model_module_version": "1.2.0",
            "_view_count": null,
            "flex_flow": null,
            "width": null,
            "min_width": null,
            "border": null,
            "align_items": null,
            "bottom": null,
            "_model_module": "@jupyter-widgets/base",
            "top": null,
            "grid_column": null,
            "overflow_y": null,
            "overflow_x": null,
            "grid_auto_flow": null,
            "grid_area": null,
            "grid_template_columns": null,
            "flex": null,
            "_model_name": "LayoutModel",
            "justify_items": null,
            "grid_row": null,
            "max_height": null,
            "align_content": null,
            "visibility": null,
            "align_self": null,
            "height": null,
            "min_height": null,
            "padding": null,
            "grid_auto_rows": null,
            "grid_gap": null,
            "max_width": null,
            "order": null,
            "_view_module_version": "1.2.0",
            "grid_template_areas": null,
            "object_position": null,
            "object_fit": null,
            "grid_auto_columns": null,
            "margin": null,
            "display": null,
            "left": null
          }
        },
        "c5788c28bfd74bd4ac7f0ceba48fc568": {
          "model_module": "@jupyter-widgets/controls",
          "model_name": "FloatProgressModel",
          "state": {
            "_view_name": "ProgressView",
            "style": "IPY_MODEL_96203e84e9c644bb87ce8bdcc7ffd273",
            "_dom_classes": [],
            "description": "Extraction completed...: 100%",
            "_model_name": "FloatProgressModel",
            "bar_style": "success",
            "max": 1,
            "_view_module": "@jupyter-widgets/controls",
            "_model_module_version": "1.5.0",
            "value": 1,
            "_view_count": null,
            "_view_module_version": "1.5.0",
            "orientation": "horizontal",
            "min": 0,
            "description_tooltip": null,
            "_model_module": "@jupyter-widgets/controls",
            "layout": "IPY_MODEL_17c58b6334354953b1755298739fa4ac"
          }
        },
        "0d262ef8ae8e4f388e7ef36cdb972d05": {
          "model_module": "@jupyter-widgets/controls",
          "model_name": "HTMLModel",
          "state": {
            "_view_name": "HTMLView",
            "style": "IPY_MODEL_474ea2795afd4a13b87782d5ebb1d119",
            "_dom_classes": [],
            "description": "",
            "_model_name": "HTMLModel",
            "placeholder": "​",
            "_view_module": "@jupyter-widgets/controls",
            "_model_module_version": "1.5.0",
            "value": " 1/1 [00:05&lt;00:00,  5.33s/ file]",
            "_view_count": null,
            "_view_module_version": "1.5.0",
            "description_tooltip": null,
            "_model_module": "@jupyter-widgets/controls",
            "layout": "IPY_MODEL_294040ebe4e04b5f851c7e70e727ab55"
          }
        },
        "96203e84e9c644bb87ce8bdcc7ffd273": {
          "model_module": "@jupyter-widgets/controls",
          "model_name": "ProgressStyleModel",
          "state": {
            "_view_name": "StyleView",
            "_model_name": "ProgressStyleModel",
            "description_width": "initial",
            "_view_module": "@jupyter-widgets/base",
            "_model_module_version": "1.5.0",
            "_view_count": null,
            "_view_module_version": "1.2.0",
            "bar_color": null,
            "_model_module": "@jupyter-widgets/controls"
          }
        },
        "17c58b6334354953b1755298739fa4ac": {
          "model_module": "@jupyter-widgets/base",
          "model_name": "LayoutModel",
          "state": {
            "_view_name": "LayoutView",
            "grid_template_rows": null,
            "right": null,
            "justify_content": null,
            "_view_module": "@jupyter-widgets/base",
            "overflow": null,
            "_model_module_version": "1.2.0",
            "_view_count": null,
            "flex_flow": null,
            "width": null,
            "min_width": null,
            "border": null,
            "align_items": null,
            "bottom": null,
            "_model_module": "@jupyter-widgets/base",
            "top": null,
            "grid_column": null,
            "overflow_y": null,
            "overflow_x": null,
            "grid_auto_flow": null,
            "grid_area": null,
            "grid_template_columns": null,
            "flex": null,
            "_model_name": "LayoutModel",
            "justify_items": null,
            "grid_row": null,
            "max_height": null,
            "align_content": null,
            "visibility": null,
            "align_self": null,
            "height": null,
            "min_height": null,
            "padding": null,
            "grid_auto_rows": null,
            "grid_gap": null,
            "max_width": null,
            "order": null,
            "_view_module_version": "1.2.0",
            "grid_template_areas": null,
            "object_position": null,
            "object_fit": null,
            "grid_auto_columns": null,
            "margin": null,
            "display": null,
            "left": null
          }
        },
        "474ea2795afd4a13b87782d5ebb1d119": {
          "model_module": "@jupyter-widgets/controls",
          "model_name": "DescriptionStyleModel",
          "state": {
            "_view_name": "StyleView",
            "_model_name": "DescriptionStyleModel",
            "description_width": "",
            "_view_module": "@jupyter-widgets/base",
            "_model_module_version": "1.5.0",
            "_view_count": null,
            "_view_module_version": "1.2.0",
            "_model_module": "@jupyter-widgets/controls"
          }
        },
        "294040ebe4e04b5f851c7e70e727ab55": {
          "model_module": "@jupyter-widgets/base",
          "model_name": "LayoutModel",
          "state": {
            "_view_name": "LayoutView",
            "grid_template_rows": null,
            "right": null,
            "justify_content": null,
            "_view_module": "@jupyter-widgets/base",
            "overflow": null,
            "_model_module_version": "1.2.0",
            "_view_count": null,
            "flex_flow": null,
            "width": null,
            "min_width": null,
            "border": null,
            "align_items": null,
            "bottom": null,
            "_model_module": "@jupyter-widgets/base",
            "top": null,
            "grid_column": null,
            "overflow_y": null,
            "overflow_x": null,
            "grid_auto_flow": null,
            "grid_area": null,
            "grid_template_columns": null,
            "flex": null,
            "_model_name": "LayoutModel",
            "justify_items": null,
            "grid_row": null,
            "max_height": null,
            "align_content": null,
            "visibility": null,
            "align_self": null,
            "height": null,
            "min_height": null,
            "padding": null,
            "grid_auto_rows": null,
            "grid_gap": null,
            "max_width": null,
            "order": null,
            "_view_module_version": "1.2.0",
            "grid_template_areas": null,
            "object_position": null,
            "object_fit": null,
            "grid_auto_columns": null,
            "margin": null,
            "display": null,
            "left": null
          }
        },
        "93e7d939858648a08f628f60fac8de00": {
          "model_module": "@jupyter-widgets/controls",
          "model_name": "HBoxModel",
          "state": {
            "_view_name": "HBoxView",
            "_dom_classes": [],
            "_model_name": "HBoxModel",
            "_view_module": "@jupyter-widgets/controls",
            "_model_module_version": "1.5.0",
            "_view_count": null,
            "_view_module_version": "1.5.0",
            "box_style": "",
            "layout": "IPY_MODEL_70af1d1dbfc2487aa2279ea84ab8815b",
            "_model_module": "@jupyter-widgets/controls",
            "children": [
              "IPY_MODEL_41a7f2be498048e78f4398e9d201b473",
              "IPY_MODEL_88bee6c61e404ab48469b2060ade4408"
            ]
          }
        },
        "70af1d1dbfc2487aa2279ea84ab8815b": {
          "model_module": "@jupyter-widgets/base",
          "model_name": "LayoutModel",
          "state": {
            "_view_name": "LayoutView",
            "grid_template_rows": null,
            "right": null,
            "justify_content": null,
            "_view_module": "@jupyter-widgets/base",
            "overflow": null,
            "_model_module_version": "1.2.0",
            "_view_count": null,
            "flex_flow": null,
            "width": null,
            "min_width": null,
            "border": null,
            "align_items": null,
            "bottom": null,
            "_model_module": "@jupyter-widgets/base",
            "top": null,
            "grid_column": null,
            "overflow_y": null,
            "overflow_x": null,
            "grid_auto_flow": null,
            "grid_area": null,
            "grid_template_columns": null,
            "flex": null,
            "_model_name": "LayoutModel",
            "justify_items": null,
            "grid_row": null,
            "max_height": null,
            "align_content": null,
            "visibility": null,
            "align_self": null,
            "height": null,
            "min_height": null,
            "padding": null,
            "grid_auto_rows": null,
            "grid_gap": null,
            "max_width": null,
            "order": null,
            "_view_module_version": "1.2.0",
            "grid_template_areas": null,
            "object_position": null,
            "object_fit": null,
            "grid_auto_columns": null,
            "margin": null,
            "display": null,
            "left": null
          }
        },
        "41a7f2be498048e78f4398e9d201b473": {
          "model_module": "@jupyter-widgets/controls",
          "model_name": "FloatProgressModel",
          "state": {
            "_view_name": "ProgressView",
            "style": "IPY_MODEL_490addaad7904dd999674abed96c0218",
            "_dom_classes": [],
            "description": "Generating splits...: 100%",
            "_model_name": "FloatProgressModel",
            "bar_style": "",
            "max": 2,
            "_view_module": "@jupyter-widgets/controls",
            "_model_module_version": "1.5.0",
            "value": 2,
            "_view_count": null,
            "_view_module_version": "1.5.0",
            "orientation": "horizontal",
            "min": 0,
            "description_tooltip": null,
            "_model_module": "@jupyter-widgets/controls",
            "layout": "IPY_MODEL_be78ad9d2fa74b799858430850439001"
          }
        },
        "88bee6c61e404ab48469b2060ade4408": {
          "model_module": "@jupyter-widgets/controls",
          "model_name": "HTMLModel",
          "state": {
            "_view_name": "HTMLView",
            "style": "IPY_MODEL_9308a6548b484a2f9c7558ec0c9f035d",
            "_dom_classes": [],
            "description": "",
            "_model_name": "HTMLModel",
            "placeholder": "​",
            "_view_module": "@jupyter-widgets/controls",
            "_model_module_version": "1.5.0",
            "value": " 2/2 [00:37&lt;00:00, 23.50s/ splits]",
            "_view_count": null,
            "_view_module_version": "1.5.0",
            "description_tooltip": null,
            "_model_module": "@jupyter-widgets/controls",
            "layout": "IPY_MODEL_46bf6413625840a5a0d98eaa743db2aa"
          }
        },
        "490addaad7904dd999674abed96c0218": {
          "model_module": "@jupyter-widgets/controls",
          "model_name": "ProgressStyleModel",
          "state": {
            "_view_name": "StyleView",
            "_model_name": "ProgressStyleModel",
            "description_width": "initial",
            "_view_module": "@jupyter-widgets/base",
            "_model_module_version": "1.5.0",
            "_view_count": null,
            "_view_module_version": "1.2.0",
            "bar_color": null,
            "_model_module": "@jupyter-widgets/controls"
          }
        },
        "be78ad9d2fa74b799858430850439001": {
          "model_module": "@jupyter-widgets/base",
          "model_name": "LayoutModel",
          "state": {
            "_view_name": "LayoutView",
            "grid_template_rows": null,
            "right": null,
            "justify_content": null,
            "_view_module": "@jupyter-widgets/base",
            "overflow": null,
            "_model_module_version": "1.2.0",
            "_view_count": null,
            "flex_flow": null,
            "width": null,
            "min_width": null,
            "border": null,
            "align_items": null,
            "bottom": null,
            "_model_module": "@jupyter-widgets/base",
            "top": null,
            "grid_column": null,
            "overflow_y": null,
            "overflow_x": null,
            "grid_auto_flow": null,
            "grid_area": null,
            "grid_template_columns": null,
            "flex": null,
            "_model_name": "LayoutModel",
            "justify_items": null,
            "grid_row": null,
            "max_height": null,
            "align_content": null,
            "visibility": null,
            "align_self": null,
            "height": null,
            "min_height": null,
            "padding": null,
            "grid_auto_rows": null,
            "grid_gap": null,
            "max_width": null,
            "order": null,
            "_view_module_version": "1.2.0",
            "grid_template_areas": null,
            "object_position": null,
            "object_fit": null,
            "grid_auto_columns": null,
            "margin": null,
            "display": null,
            "left": null
          }
        },
        "9308a6548b484a2f9c7558ec0c9f035d": {
          "model_module": "@jupyter-widgets/controls",
          "model_name": "DescriptionStyleModel",
          "state": {
            "_view_name": "StyleView",
            "_model_name": "DescriptionStyleModel",
            "description_width": "",
            "_view_module": "@jupyter-widgets/base",
            "_model_module_version": "1.5.0",
            "_view_count": null,
            "_view_module_version": "1.2.0",
            "_model_module": "@jupyter-widgets/controls"
          }
        },
        "46bf6413625840a5a0d98eaa743db2aa": {
          "model_module": "@jupyter-widgets/base",
          "model_name": "LayoutModel",
          "state": {
            "_view_name": "LayoutView",
            "grid_template_rows": null,
            "right": null,
            "justify_content": null,
            "_view_module": "@jupyter-widgets/base",
            "overflow": null,
            "_model_module_version": "1.2.0",
            "_view_count": null,
            "flex_flow": null,
            "width": null,
            "min_width": null,
            "border": null,
            "align_items": null,
            "bottom": null,
            "_model_module": "@jupyter-widgets/base",
            "top": null,
            "grid_column": null,
            "overflow_y": null,
            "overflow_x": null,
            "grid_auto_flow": null,
            "grid_area": null,
            "grid_template_columns": null,
            "flex": null,
            "_model_name": "LayoutModel",
            "justify_items": null,
            "grid_row": null,
            "max_height": null,
            "align_content": null,
            "visibility": null,
            "align_self": null,
            "height": null,
            "min_height": null,
            "padding": null,
            "grid_auto_rows": null,
            "grid_gap": null,
            "max_width": null,
            "order": null,
            "_view_module_version": "1.2.0",
            "grid_template_areas": null,
            "object_position": null,
            "object_fit": null,
            "grid_auto_columns": null,
            "margin": null,
            "display": null,
            "left": null
          }
        },
        "06f9a69eb2c342aeb276bb7e688bd131": {
          "model_module": "@jupyter-widgets/controls",
          "model_name": "HBoxModel",
          "state": {
            "_view_name": "HBoxView",
            "_dom_classes": [],
            "_model_name": "HBoxModel",
            "_view_module": "@jupyter-widgets/controls",
            "_model_module_version": "1.5.0",
            "_view_count": null,
            "_view_module_version": "1.5.0",
            "box_style": "",
            "layout": "IPY_MODEL_db0b8aae63f34d33a9ce32a8f00c81e7",
            "_model_module": "@jupyter-widgets/controls",
            "children": [
              "IPY_MODEL_9fa21fbe66b74268a02528ffb6b9b94f",
              "IPY_MODEL_44caa1fe4749486785759a45cbc6a91c"
            ]
          }
        },
        "db0b8aae63f34d33a9ce32a8f00c81e7": {
          "model_module": "@jupyter-widgets/base",
          "model_name": "LayoutModel",
          "state": {
            "_view_name": "LayoutView",
            "grid_template_rows": null,
            "right": null,
            "justify_content": null,
            "_view_module": "@jupyter-widgets/base",
            "overflow": null,
            "_model_module_version": "1.2.0",
            "_view_count": null,
            "flex_flow": null,
            "width": null,
            "min_width": null,
            "border": null,
            "align_items": null,
            "bottom": null,
            "_model_module": "@jupyter-widgets/base",
            "top": null,
            "grid_column": null,
            "overflow_y": null,
            "overflow_x": null,
            "grid_auto_flow": null,
            "grid_area": null,
            "grid_template_columns": null,
            "flex": null,
            "_model_name": "LayoutModel",
            "justify_items": null,
            "grid_row": null,
            "max_height": null,
            "align_content": null,
            "visibility": null,
            "align_self": null,
            "height": null,
            "min_height": null,
            "padding": null,
            "grid_auto_rows": null,
            "grid_gap": null,
            "max_width": null,
            "order": null,
            "_view_module_version": "1.2.0",
            "grid_template_areas": null,
            "object_position": null,
            "object_fit": null,
            "grid_auto_columns": null,
            "margin": null,
            "display": null,
            "left": null
          }
        },
        "9fa21fbe66b74268a02528ffb6b9b94f": {
          "model_module": "@jupyter-widgets/controls",
          "model_name": "FloatProgressModel",
          "state": {
            "_view_name": "ProgressView",
            "style": "IPY_MODEL_079ad58bf6eb478d9396b4e6d6e94bc5",
            "_dom_classes": [],
            "description": "Generating train examples...: 100%",
            "_model_name": "FloatProgressModel",
            "bar_style": "",
            "max": 50000,
            "_view_module": "@jupyter-widgets/controls",
            "_model_module_version": "1.5.0",
            "value": 50000,
            "_view_count": null,
            "_view_module_version": "1.5.0",
            "orientation": "horizontal",
            "min": 0,
            "description_tooltip": null,
            "_model_module": "@jupyter-widgets/controls",
            "layout": "IPY_MODEL_9629850932ac44e8927cbc043845d888"
          }
        },
        "44caa1fe4749486785759a45cbc6a91c": {
          "model_module": "@jupyter-widgets/controls",
          "model_name": "HTMLModel",
          "state": {
            "_view_name": "HTMLView",
            "style": "IPY_MODEL_f5572d67d42543cdbf537875db80ec5d",
            "_dom_classes": [],
            "description": "",
            "_model_name": "HTMLModel",
            "placeholder": "​",
            "_view_module": "@jupyter-widgets/controls",
            "_model_module_version": "1.5.0",
            "value": " 50000/50000 [00:30&lt;00:00, 1669.62 examples/s]",
            "_view_count": null,
            "_view_module_version": "1.5.0",
            "description_tooltip": null,
            "_model_module": "@jupyter-widgets/controls",
            "layout": "IPY_MODEL_83ca4f53fec74a83a804681957597d17"
          }
        },
        "079ad58bf6eb478d9396b4e6d6e94bc5": {
          "model_module": "@jupyter-widgets/controls",
          "model_name": "ProgressStyleModel",
          "state": {
            "_view_name": "StyleView",
            "_model_name": "ProgressStyleModel",
            "description_width": "initial",
            "_view_module": "@jupyter-widgets/base",
            "_model_module_version": "1.5.0",
            "_view_count": null,
            "_view_module_version": "1.2.0",
            "bar_color": null,
            "_model_module": "@jupyter-widgets/controls"
          }
        },
        "9629850932ac44e8927cbc043845d888": {
          "model_module": "@jupyter-widgets/base",
          "model_name": "LayoutModel",
          "state": {
            "_view_name": "LayoutView",
            "grid_template_rows": null,
            "right": null,
            "justify_content": null,
            "_view_module": "@jupyter-widgets/base",
            "overflow": null,
            "_model_module_version": "1.2.0",
            "_view_count": null,
            "flex_flow": null,
            "width": null,
            "min_width": null,
            "border": null,
            "align_items": null,
            "bottom": null,
            "_model_module": "@jupyter-widgets/base",
            "top": null,
            "grid_column": null,
            "overflow_y": null,
            "overflow_x": null,
            "grid_auto_flow": null,
            "grid_area": null,
            "grid_template_columns": null,
            "flex": null,
            "_model_name": "LayoutModel",
            "justify_items": null,
            "grid_row": null,
            "max_height": null,
            "align_content": null,
            "visibility": null,
            "align_self": null,
            "height": null,
            "min_height": null,
            "padding": null,
            "grid_auto_rows": null,
            "grid_gap": null,
            "max_width": null,
            "order": null,
            "_view_module_version": "1.2.0",
            "grid_template_areas": null,
            "object_position": null,
            "object_fit": null,
            "grid_auto_columns": null,
            "margin": null,
            "display": null,
            "left": null
          }
        },
        "f5572d67d42543cdbf537875db80ec5d": {
          "model_module": "@jupyter-widgets/controls",
          "model_name": "DescriptionStyleModel",
          "state": {
            "_view_name": "StyleView",
            "_model_name": "DescriptionStyleModel",
            "description_width": "",
            "_view_module": "@jupyter-widgets/base",
            "_model_module_version": "1.5.0",
            "_view_count": null,
            "_view_module_version": "1.2.0",
            "_model_module": "@jupyter-widgets/controls"
          }
        },
        "83ca4f53fec74a83a804681957597d17": {
          "model_module": "@jupyter-widgets/base",
          "model_name": "LayoutModel",
          "state": {
            "_view_name": "LayoutView",
            "grid_template_rows": null,
            "right": null,
            "justify_content": null,
            "_view_module": "@jupyter-widgets/base",
            "overflow": null,
            "_model_module_version": "1.2.0",
            "_view_count": null,
            "flex_flow": null,
            "width": null,
            "min_width": null,
            "border": null,
            "align_items": null,
            "bottom": null,
            "_model_module": "@jupyter-widgets/base",
            "top": null,
            "grid_column": null,
            "overflow_y": null,
            "overflow_x": null,
            "grid_auto_flow": null,
            "grid_area": null,
            "grid_template_columns": null,
            "flex": null,
            "_model_name": "LayoutModel",
            "justify_items": null,
            "grid_row": null,
            "max_height": null,
            "align_content": null,
            "visibility": null,
            "align_self": null,
            "height": null,
            "min_height": null,
            "padding": null,
            "grid_auto_rows": null,
            "grid_gap": null,
            "max_width": null,
            "order": null,
            "_view_module_version": "1.2.0",
            "grid_template_areas": null,
            "object_position": null,
            "object_fit": null,
            "grid_auto_columns": null,
            "margin": null,
            "display": null,
            "left": null
          }
        },
        "6577d614b16d4d9cb19a13fadd74eaab": {
          "model_module": "@jupyter-widgets/controls",
          "model_name": "HBoxModel",
          "state": {
            "_view_name": "HBoxView",
            "_dom_classes": [],
            "_model_name": "HBoxModel",
            "_view_module": "@jupyter-widgets/controls",
            "_model_module_version": "1.5.0",
            "_view_count": null,
            "_view_module_version": "1.5.0",
            "box_style": "",
            "layout": "IPY_MODEL_5cc20485533a4154a5b603209bc73947",
            "_model_module": "@jupyter-widgets/controls",
            "children": [
              "IPY_MODEL_70eb82f1bdc646e58a6b8589d96ffbf8",
              "IPY_MODEL_e7bec7677ac04fc98be08f6e7f0a73b5"
            ]
          }
        },
        "5cc20485533a4154a5b603209bc73947": {
          "model_module": "@jupyter-widgets/base",
          "model_name": "LayoutModel",
          "state": {
            "_view_name": "LayoutView",
            "grid_template_rows": null,
            "right": null,
            "justify_content": null,
            "_view_module": "@jupyter-widgets/base",
            "overflow": null,
            "_model_module_version": "1.2.0",
            "_view_count": null,
            "flex_flow": null,
            "width": null,
            "min_width": null,
            "border": null,
            "align_items": null,
            "bottom": null,
            "_model_module": "@jupyter-widgets/base",
            "top": null,
            "grid_column": null,
            "overflow_y": null,
            "overflow_x": null,
            "grid_auto_flow": null,
            "grid_area": null,
            "grid_template_columns": null,
            "flex": null,
            "_model_name": "LayoutModel",
            "justify_items": null,
            "grid_row": null,
            "max_height": null,
            "align_content": null,
            "visibility": null,
            "align_self": null,
            "height": null,
            "min_height": null,
            "padding": null,
            "grid_auto_rows": null,
            "grid_gap": null,
            "max_width": null,
            "order": null,
            "_view_module_version": "1.2.0",
            "grid_template_areas": null,
            "object_position": null,
            "object_fit": null,
            "grid_auto_columns": null,
            "margin": null,
            "display": null,
            "left": null
          }
        },
        "70eb82f1bdc646e58a6b8589d96ffbf8": {
          "model_module": "@jupyter-widgets/controls",
          "model_name": "FloatProgressModel",
          "state": {
            "_view_name": "ProgressView",
            "style": "IPY_MODEL_1b49920c1182420f9ecc605bbe2c5ea9",
            "_dom_classes": [],
            "description": "Shuffling cifar10-train.tfrecord...: 100%",
            "_model_name": "FloatProgressModel",
            "bar_style": "",
            "max": 50000,
            "_view_module": "@jupyter-widgets/controls",
            "_model_module_version": "1.5.0",
            "value": 50000,
            "_view_count": null,
            "_view_module_version": "1.5.0",
            "orientation": "horizontal",
            "min": 0,
            "description_tooltip": null,
            "_model_module": "@jupyter-widgets/controls",
            "layout": "IPY_MODEL_07871d199032409da8a4f0644bce6d13"
          }
        },
        "e7bec7677ac04fc98be08f6e7f0a73b5": {
          "model_module": "@jupyter-widgets/controls",
          "model_name": "HTMLModel",
          "state": {
            "_view_name": "HTMLView",
            "style": "IPY_MODEL_1f23acd67a4c4a8bb84d2b4cee3449b4",
            "_dom_classes": [],
            "description": "",
            "_model_name": "HTMLModel",
            "placeholder": "​",
            "_view_module": "@jupyter-widgets/controls",
            "_model_module_version": "1.5.0",
            "value": " 50000/50000 [00:00&lt;00:00, 48013.01 examples/s]",
            "_view_count": null,
            "_view_module_version": "1.5.0",
            "description_tooltip": null,
            "_model_module": "@jupyter-widgets/controls",
            "layout": "IPY_MODEL_f8c6f4a38e3042cd80cbd6e9316564ce"
          }
        },
        "1b49920c1182420f9ecc605bbe2c5ea9": {
          "model_module": "@jupyter-widgets/controls",
          "model_name": "ProgressStyleModel",
          "state": {
            "_view_name": "StyleView",
            "_model_name": "ProgressStyleModel",
            "description_width": "initial",
            "_view_module": "@jupyter-widgets/base",
            "_model_module_version": "1.5.0",
            "_view_count": null,
            "_view_module_version": "1.2.0",
            "bar_color": null,
            "_model_module": "@jupyter-widgets/controls"
          }
        },
        "07871d199032409da8a4f0644bce6d13": {
          "model_module": "@jupyter-widgets/base",
          "model_name": "LayoutModel",
          "state": {
            "_view_name": "LayoutView",
            "grid_template_rows": null,
            "right": null,
            "justify_content": null,
            "_view_module": "@jupyter-widgets/base",
            "overflow": null,
            "_model_module_version": "1.2.0",
            "_view_count": null,
            "flex_flow": null,
            "width": null,
            "min_width": null,
            "border": null,
            "align_items": null,
            "bottom": null,
            "_model_module": "@jupyter-widgets/base",
            "top": null,
            "grid_column": null,
            "overflow_y": null,
            "overflow_x": null,
            "grid_auto_flow": null,
            "grid_area": null,
            "grid_template_columns": null,
            "flex": null,
            "_model_name": "LayoutModel",
            "justify_items": null,
            "grid_row": null,
            "max_height": null,
            "align_content": null,
            "visibility": null,
            "align_self": null,
            "height": null,
            "min_height": null,
            "padding": null,
            "grid_auto_rows": null,
            "grid_gap": null,
            "max_width": null,
            "order": null,
            "_view_module_version": "1.2.0",
            "grid_template_areas": null,
            "object_position": null,
            "object_fit": null,
            "grid_auto_columns": null,
            "margin": null,
            "display": null,
            "left": null
          }
        },
        "1f23acd67a4c4a8bb84d2b4cee3449b4": {
          "model_module": "@jupyter-widgets/controls",
          "model_name": "DescriptionStyleModel",
          "state": {
            "_view_name": "StyleView",
            "_model_name": "DescriptionStyleModel",
            "description_width": "",
            "_view_module": "@jupyter-widgets/base",
            "_model_module_version": "1.5.0",
            "_view_count": null,
            "_view_module_version": "1.2.0",
            "_model_module": "@jupyter-widgets/controls"
          }
        },
        "f8c6f4a38e3042cd80cbd6e9316564ce": {
          "model_module": "@jupyter-widgets/base",
          "model_name": "LayoutModel",
          "state": {
            "_view_name": "LayoutView",
            "grid_template_rows": null,
            "right": null,
            "justify_content": null,
            "_view_module": "@jupyter-widgets/base",
            "overflow": null,
            "_model_module_version": "1.2.0",
            "_view_count": null,
            "flex_flow": null,
            "width": null,
            "min_width": null,
            "border": null,
            "align_items": null,
            "bottom": null,
            "_model_module": "@jupyter-widgets/base",
            "top": null,
            "grid_column": null,
            "overflow_y": null,
            "overflow_x": null,
            "grid_auto_flow": null,
            "grid_area": null,
            "grid_template_columns": null,
            "flex": null,
            "_model_name": "LayoutModel",
            "justify_items": null,
            "grid_row": null,
            "max_height": null,
            "align_content": null,
            "visibility": null,
            "align_self": null,
            "height": null,
            "min_height": null,
            "padding": null,
            "grid_auto_rows": null,
            "grid_gap": null,
            "max_width": null,
            "order": null,
            "_view_module_version": "1.2.0",
            "grid_template_areas": null,
            "object_position": null,
            "object_fit": null,
            "grid_auto_columns": null,
            "margin": null,
            "display": null,
            "left": null
          }
        },
        "e09ae895eecb438d84d3c60033570b4f": {
          "model_module": "@jupyter-widgets/controls",
          "model_name": "HBoxModel",
          "state": {
            "_view_name": "HBoxView",
            "_dom_classes": [],
            "_model_name": "HBoxModel",
            "_view_module": "@jupyter-widgets/controls",
            "_model_module_version": "1.5.0",
            "_view_count": null,
            "_view_module_version": "1.5.0",
            "box_style": "",
            "layout": "IPY_MODEL_9f7f3fc24fd14fce87946eeed2a8f496",
            "_model_module": "@jupyter-widgets/controls",
            "children": [
              "IPY_MODEL_72449312e9bd4ff292165cb4112e2829",
              "IPY_MODEL_3ce7553b05b746ff9d2559d371392b0a"
            ]
          }
        },
        "9f7f3fc24fd14fce87946eeed2a8f496": {
          "model_module": "@jupyter-widgets/base",
          "model_name": "LayoutModel",
          "state": {
            "_view_name": "LayoutView",
            "grid_template_rows": null,
            "right": null,
            "justify_content": null,
            "_view_module": "@jupyter-widgets/base",
            "overflow": null,
            "_model_module_version": "1.2.0",
            "_view_count": null,
            "flex_flow": null,
            "width": null,
            "min_width": null,
            "border": null,
            "align_items": null,
            "bottom": null,
            "_model_module": "@jupyter-widgets/base",
            "top": null,
            "grid_column": null,
            "overflow_y": null,
            "overflow_x": null,
            "grid_auto_flow": null,
            "grid_area": null,
            "grid_template_columns": null,
            "flex": null,
            "_model_name": "LayoutModel",
            "justify_items": null,
            "grid_row": null,
            "max_height": null,
            "align_content": null,
            "visibility": null,
            "align_self": null,
            "height": null,
            "min_height": null,
            "padding": null,
            "grid_auto_rows": null,
            "grid_gap": null,
            "max_width": null,
            "order": null,
            "_view_module_version": "1.2.0",
            "grid_template_areas": null,
            "object_position": null,
            "object_fit": null,
            "grid_auto_columns": null,
            "margin": null,
            "display": null,
            "left": null
          }
        },
        "72449312e9bd4ff292165cb4112e2829": {
          "model_module": "@jupyter-widgets/controls",
          "model_name": "FloatProgressModel",
          "state": {
            "_view_name": "ProgressView",
            "style": "IPY_MODEL_e0bb64fa8b61439ea1d6fea0c35a7c3d",
            "_dom_classes": [],
            "description": "Generating test examples...: 100%",
            "_model_name": "FloatProgressModel",
            "bar_style": "",
            "max": 10000,
            "_view_module": "@jupyter-widgets/controls",
            "_model_module_version": "1.5.0",
            "value": 10000,
            "_view_count": null,
            "_view_module_version": "1.5.0",
            "orientation": "horizontal",
            "min": 0,
            "description_tooltip": null,
            "_model_module": "@jupyter-widgets/controls",
            "layout": "IPY_MODEL_5546c2d29a7d4d758d53b11f43fbf957"
          }
        },
        "3ce7553b05b746ff9d2559d371392b0a": {
          "model_module": "@jupyter-widgets/controls",
          "model_name": "HTMLModel",
          "state": {
            "_view_name": "HTMLView",
            "style": "IPY_MODEL_8ac97a3083fd4c75999ff3ac705fb07a",
            "_dom_classes": [],
            "description": "",
            "_model_name": "HTMLModel",
            "placeholder": "​",
            "_view_module": "@jupyter-widgets/controls",
            "_model_module_version": "1.5.0",
            "value": " 10000/10000 [00:06&lt;00:00, 1561.72 examples/s]",
            "_view_count": null,
            "_view_module_version": "1.5.0",
            "description_tooltip": null,
            "_model_module": "@jupyter-widgets/controls",
            "layout": "IPY_MODEL_7c55674ec9104ef78ccaff71d59fbb53"
          }
        },
        "e0bb64fa8b61439ea1d6fea0c35a7c3d": {
          "model_module": "@jupyter-widgets/controls",
          "model_name": "ProgressStyleModel",
          "state": {
            "_view_name": "StyleView",
            "_model_name": "ProgressStyleModel",
            "description_width": "initial",
            "_view_module": "@jupyter-widgets/base",
            "_model_module_version": "1.5.0",
            "_view_count": null,
            "_view_module_version": "1.2.0",
            "bar_color": null,
            "_model_module": "@jupyter-widgets/controls"
          }
        },
        "5546c2d29a7d4d758d53b11f43fbf957": {
          "model_module": "@jupyter-widgets/base",
          "model_name": "LayoutModel",
          "state": {
            "_view_name": "LayoutView",
            "grid_template_rows": null,
            "right": null,
            "justify_content": null,
            "_view_module": "@jupyter-widgets/base",
            "overflow": null,
            "_model_module_version": "1.2.0",
            "_view_count": null,
            "flex_flow": null,
            "width": null,
            "min_width": null,
            "border": null,
            "align_items": null,
            "bottom": null,
            "_model_module": "@jupyter-widgets/base",
            "top": null,
            "grid_column": null,
            "overflow_y": null,
            "overflow_x": null,
            "grid_auto_flow": null,
            "grid_area": null,
            "grid_template_columns": null,
            "flex": null,
            "_model_name": "LayoutModel",
            "justify_items": null,
            "grid_row": null,
            "max_height": null,
            "align_content": null,
            "visibility": null,
            "align_self": null,
            "height": null,
            "min_height": null,
            "padding": null,
            "grid_auto_rows": null,
            "grid_gap": null,
            "max_width": null,
            "order": null,
            "_view_module_version": "1.2.0",
            "grid_template_areas": null,
            "object_position": null,
            "object_fit": null,
            "grid_auto_columns": null,
            "margin": null,
            "display": null,
            "left": null
          }
        },
        "8ac97a3083fd4c75999ff3ac705fb07a": {
          "model_module": "@jupyter-widgets/controls",
          "model_name": "DescriptionStyleModel",
          "state": {
            "_view_name": "StyleView",
            "_model_name": "DescriptionStyleModel",
            "description_width": "",
            "_view_module": "@jupyter-widgets/base",
            "_model_module_version": "1.5.0",
            "_view_count": null,
            "_view_module_version": "1.2.0",
            "_model_module": "@jupyter-widgets/controls"
          }
        },
        "7c55674ec9104ef78ccaff71d59fbb53": {
          "model_module": "@jupyter-widgets/base",
          "model_name": "LayoutModel",
          "state": {
            "_view_name": "LayoutView",
            "grid_template_rows": null,
            "right": null,
            "justify_content": null,
            "_view_module": "@jupyter-widgets/base",
            "overflow": null,
            "_model_module_version": "1.2.0",
            "_view_count": null,
            "flex_flow": null,
            "width": null,
            "min_width": null,
            "border": null,
            "align_items": null,
            "bottom": null,
            "_model_module": "@jupyter-widgets/base",
            "top": null,
            "grid_column": null,
            "overflow_y": null,
            "overflow_x": null,
            "grid_auto_flow": null,
            "grid_area": null,
            "grid_template_columns": null,
            "flex": null,
            "_model_name": "LayoutModel",
            "justify_items": null,
            "grid_row": null,
            "max_height": null,
            "align_content": null,
            "visibility": null,
            "align_self": null,
            "height": null,
            "min_height": null,
            "padding": null,
            "grid_auto_rows": null,
            "grid_gap": null,
            "max_width": null,
            "order": null,
            "_view_module_version": "1.2.0",
            "grid_template_areas": null,
            "object_position": null,
            "object_fit": null,
            "grid_auto_columns": null,
            "margin": null,
            "display": null,
            "left": null
          }
        },
        "e67eada6451e4a7c8396b4372d22a1c0": {
          "model_module": "@jupyter-widgets/controls",
          "model_name": "HBoxModel",
          "state": {
            "_view_name": "HBoxView",
            "_dom_classes": [],
            "_model_name": "HBoxModel",
            "_view_module": "@jupyter-widgets/controls",
            "_model_module_version": "1.5.0",
            "_view_count": null,
            "_view_module_version": "1.5.0",
            "box_style": "",
            "layout": "IPY_MODEL_c1436af80c4d48b9b916c247ce12db45",
            "_model_module": "@jupyter-widgets/controls",
            "children": [
              "IPY_MODEL_e6f81e65f13547ec9cf1a2e3d6c160f9",
              "IPY_MODEL_206cb1bea08d4b33bb5bea602ee7fdd0"
            ]
          }
        },
        "c1436af80c4d48b9b916c247ce12db45": {
          "model_module": "@jupyter-widgets/base",
          "model_name": "LayoutModel",
          "state": {
            "_view_name": "LayoutView",
            "grid_template_rows": null,
            "right": null,
            "justify_content": null,
            "_view_module": "@jupyter-widgets/base",
            "overflow": null,
            "_model_module_version": "1.2.0",
            "_view_count": null,
            "flex_flow": null,
            "width": null,
            "min_width": null,
            "border": null,
            "align_items": null,
            "bottom": null,
            "_model_module": "@jupyter-widgets/base",
            "top": null,
            "grid_column": null,
            "overflow_y": null,
            "overflow_x": null,
            "grid_auto_flow": null,
            "grid_area": null,
            "grid_template_columns": null,
            "flex": null,
            "_model_name": "LayoutModel",
            "justify_items": null,
            "grid_row": null,
            "max_height": null,
            "align_content": null,
            "visibility": null,
            "align_self": null,
            "height": null,
            "min_height": null,
            "padding": null,
            "grid_auto_rows": null,
            "grid_gap": null,
            "max_width": null,
            "order": null,
            "_view_module_version": "1.2.0",
            "grid_template_areas": null,
            "object_position": null,
            "object_fit": null,
            "grid_auto_columns": null,
            "margin": null,
            "display": null,
            "left": null
          }
        },
        "e6f81e65f13547ec9cf1a2e3d6c160f9": {
          "model_module": "@jupyter-widgets/controls",
          "model_name": "FloatProgressModel",
          "state": {
            "_view_name": "ProgressView",
            "style": "IPY_MODEL_6b86495136ac449099d388f06dd35135",
            "_dom_classes": [],
            "description": "Shuffling cifar10-test.tfrecord...: 100%",
            "_model_name": "FloatProgressModel",
            "bar_style": "",
            "max": 10000,
            "_view_module": "@jupyter-widgets/controls",
            "_model_module_version": "1.5.0",
            "value": 10000,
            "_view_count": null,
            "_view_module_version": "1.5.0",
            "orientation": "horizontal",
            "min": 0,
            "description_tooltip": null,
            "_model_module": "@jupyter-widgets/controls",
            "layout": "IPY_MODEL_a0a76909bf78457e86e034fa59cb1806"
          }
        },
        "206cb1bea08d4b33bb5bea602ee7fdd0": {
          "model_module": "@jupyter-widgets/controls",
          "model_name": "HTMLModel",
          "state": {
            "_view_name": "HTMLView",
            "style": "IPY_MODEL_34c58b6f242243a1aee3cb7701785a91",
            "_dom_classes": [],
            "description": "",
            "_model_name": "HTMLModel",
            "placeholder": "​",
            "_view_module": "@jupyter-widgets/controls",
            "_model_module_version": "1.5.0",
            "value": " 10000/10000 [00:00&lt;00:00, 82899.29 examples/s]",
            "_view_count": null,
            "_view_module_version": "1.5.0",
            "description_tooltip": null,
            "_model_module": "@jupyter-widgets/controls",
            "layout": "IPY_MODEL_cefd7f2faded4816ab1c3a5d8a71f590"
          }
        },
        "6b86495136ac449099d388f06dd35135": {
          "model_module": "@jupyter-widgets/controls",
          "model_name": "ProgressStyleModel",
          "state": {
            "_view_name": "StyleView",
            "_model_name": "ProgressStyleModel",
            "description_width": "initial",
            "_view_module": "@jupyter-widgets/base",
            "_model_module_version": "1.5.0",
            "_view_count": null,
            "_view_module_version": "1.2.0",
            "bar_color": null,
            "_model_module": "@jupyter-widgets/controls"
          }
        },
        "a0a76909bf78457e86e034fa59cb1806": {
          "model_module": "@jupyter-widgets/base",
          "model_name": "LayoutModel",
          "state": {
            "_view_name": "LayoutView",
            "grid_template_rows": null,
            "right": null,
            "justify_content": null,
            "_view_module": "@jupyter-widgets/base",
            "overflow": null,
            "_model_module_version": "1.2.0",
            "_view_count": null,
            "flex_flow": null,
            "width": null,
            "min_width": null,
            "border": null,
            "align_items": null,
            "bottom": null,
            "_model_module": "@jupyter-widgets/base",
            "top": null,
            "grid_column": null,
            "overflow_y": null,
            "overflow_x": null,
            "grid_auto_flow": null,
            "grid_area": null,
            "grid_template_columns": null,
            "flex": null,
            "_model_name": "LayoutModel",
            "justify_items": null,
            "grid_row": null,
            "max_height": null,
            "align_content": null,
            "visibility": null,
            "align_self": null,
            "height": null,
            "min_height": null,
            "padding": null,
            "grid_auto_rows": null,
            "grid_gap": null,
            "max_width": null,
            "order": null,
            "_view_module_version": "1.2.0",
            "grid_template_areas": null,
            "object_position": null,
            "object_fit": null,
            "grid_auto_columns": null,
            "margin": null,
            "display": null,
            "left": null
          }
        },
        "34c58b6f242243a1aee3cb7701785a91": {
          "model_module": "@jupyter-widgets/controls",
          "model_name": "DescriptionStyleModel",
          "state": {
            "_view_name": "StyleView",
            "_model_name": "DescriptionStyleModel",
            "description_width": "",
            "_view_module": "@jupyter-widgets/base",
            "_model_module_version": "1.5.0",
            "_view_count": null,
            "_view_module_version": "1.2.0",
            "_model_module": "@jupyter-widgets/controls"
          }
        },
        "cefd7f2faded4816ab1c3a5d8a71f590": {
          "model_module": "@jupyter-widgets/base",
          "model_name": "LayoutModel",
          "state": {
            "_view_name": "LayoutView",
            "grid_template_rows": null,
            "right": null,
            "justify_content": null,
            "_view_module": "@jupyter-widgets/base",
            "overflow": null,
            "_model_module_version": "1.2.0",
            "_view_count": null,
            "flex_flow": null,
            "width": null,
            "min_width": null,
            "border": null,
            "align_items": null,
            "bottom": null,
            "_model_module": "@jupyter-widgets/base",
            "top": null,
            "grid_column": null,
            "overflow_y": null,
            "overflow_x": null,
            "grid_auto_flow": null,
            "grid_area": null,
            "grid_template_columns": null,
            "flex": null,
            "_model_name": "LayoutModel",
            "justify_items": null,
            "grid_row": null,
            "max_height": null,
            "align_content": null,
            "visibility": null,
            "align_self": null,
            "height": null,
            "min_height": null,
            "padding": null,
            "grid_auto_rows": null,
            "grid_gap": null,
            "max_width": null,
            "order": null,
            "_view_module_version": "1.2.0",
            "grid_template_areas": null,
            "object_position": null,
            "object_fit": null,
            "grid_auto_columns": null,
            "margin": null,
            "display": null,
            "left": null
          }
        }
      }
    }
  },
  "cells": [
    {
      "cell_type": "markdown",
      "metadata": {
        "id": "R3jDD00KJriL"
      },
      "source": [
        "```\n",
        "Licensed under the Apache License, Version 2.0 (the \"License\");\n",
        "Licensed under the Apache License, Version 2.0 (the \"License\");\n",
        "you may not use this file except in compliance with the License.\n",
        "You may obtain a copy of the License at\n",
        "\n",
        " https://www.apache.org/licenses/LICENSE-2.0\n",
        "\n",
        "Unless required by applicable law or agreed to in writing, software\n",
        "distributed under the License is distributed on an \"AS IS\" BASIS,\n",
        "WITHOUT WARRANTIES OR CONDITIONS OF ANY KIND, either express or implied.\n",
        "See the License for the specific language governing permissions and\n",
        "limitations under the License.\n",
        "```"
      ]
    },
    {
      "cell_type": "markdown",
      "metadata": {
        "id": "vbiwQB5Qn269"
      },
      "source": [
        "# Aggregrating Nested Transformer\n",
        "\n",
        "https://arxiv.org/pdf/2105.12723.pdf\n",
        "\n",
        "https://github.com/google-research/nested-transformer/colab.ipynb\n",
        "\n",
        "\n",
        "This colab shows how to \n",
        "\n",
        "- check data pipelines\n",
        "- load pretrained checkpoints for inference \n",
        "- train CIFAR for steps"
      ]
    },
    {
      "cell_type": "markdown",
      "metadata": {
        "id": "T4Q8MxfPDmdo"
      },
      "source": [
        "## Setup"
      ]
    },
    {
      "cell_type": "code",
      "metadata": {
        "colab": {
          "base_uri": "https://localhost:8080/"
        },
        "id": "0i8kxJDSDnt6",
        "outputId": "e87a802c-0bd4-491a-af4d-7a38ad5f52f2"
      },
      "source": [
        "![ -d nested-transformer ] || git clone --depth=1 https://github.com/google-research/nested-transformer\n",
        "!cd nested-transformer && git pull"
      ],
      "execution_count": 1,
      "outputs": [
        {
          "output_type": "stream",
          "text": [
            "Already up to date.\n"
          ],
          "name": "stdout"
        }
      ]
    },
    {
      "cell_type": "code",
      "metadata": {
        "id": "0B34z8u2D56h"
      },
      "source": [
        "!pip install -qr nested-transformer/requirements.txt"
      ],
      "execution_count": 2,
      "outputs": []
    },
    {
      "cell_type": "markdown",
      "metadata": {
        "id": "9xuzwoTban-9"
      },
      "source": [
        "### (Optional) Connect to TPU\n",
        "\n",
        "Set Colab: Runtime -> Change runtime type -> TPU"
      ]
    },
    {
      "cell_type": "code",
      "metadata": {
        "id": "l9srz4IrI1Nh"
      },
      "source": [
        "USE_TPU = False\n",
        "\n",
        "if USE_TPU:\n",
        "  # Google Colab \"TPU\" runtimes are configured in \"2VM mode\", meaning that JAX\n",
        "  # cannot see the TPUs because they're not directly attached. Instead we need to\n",
        "  # setup JAX to communicate with a second machine that has the TPUs attached.\n",
        "  import os\n",
        "  if 'google.colab' in str(get_ipython()) and 'COLAB_TPU_ADDR' in os.environ:\n",
        "    import jax\n",
        "    import jax.tools.colab_tpu\n",
        "    jax.tools.colab_tpu.setup_tpu()\n",
        "    print('Connected to TPU.')\n",
        "  else:\n",
        "    print('No TPU detected. Can be changed under \"Runtime/Change runtime type\".')"
      ],
      "execution_count": 3,
      "outputs": []
    },
    {
      "cell_type": "markdown",
      "metadata": {
        "id": "ROBSRDNDJA8e"
      },
      "source": [
        "## Import"
      ]
    },
    {
      "cell_type": "code",
      "metadata": {
        "colab": {
          "test": {
            "output": "ignore",
            "timeout": 60
          },
          "base_uri": "https://localhost:8080/"
        },
        "id": "Ste6utBcojQR",
        "outputId": "558debe6-2ddc-41b4-bdf9-43629c6fd8f7"
      },
      "source": [
        "import sys\n",
        "sys.path.append('./nested-transformer')\n",
        "\n",
        "import os\n",
        "import time\n",
        "import flax\n",
        "from flax import nn\n",
        "import jax\n",
        "import jax.numpy as jnp\n",
        "import numpy as np\n",
        "import tensorflow as tf\n",
        "import tensorflow_datasets as tfds\n",
        "import functools\n",
        "from absl import logging\n",
        "\n",
        "\n",
        "from libml import input_pipeline \n",
        "from libml import preprocess\n",
        "from models import nest_net  \n",
        "import train  \n",
        "from configs import cifar_nest \n",
        "from configs import imagenet_nest  \n",
        "\n",
        "# Hide any GPUs form TensorFlow. Otherwise TF might reserve memory and make\n",
        "# it unavailable to JAX.\n",
        "tf.config.experimental.set_visible_devices([], \"GPU\")\n",
        "logging.set_verbosity(logging.INFO)\n",
        "\n",
        "print(\"JAX devices:\\n\" + \"\\n\".join([repr(d) for d in jax.devices()]))\n",
        "print('Current folder content', os.listdir())"
      ],
      "execution_count": 4,
      "outputs": [
        {
          "output_type": "stream",
          "text": [
            "INFO:absl:Starting the local TPU driver.\n",
            "INFO:absl:Unable to initialize backend 'tpu_driver': Not found: Unable to find driver in registry given worker: local://\n",
            "INFO:absl:Unable to initialize backend 'gpu': Not found: Could not find registered platform with name: \"cuda\". Available platform names are: Interpreter Host\n",
            "INFO:absl:Unable to initialize backend 'tpu': Invalid argument: TpuPlatform is not available.\n",
            "WARNING:absl:No GPU/TPU found, falling back to CPU. (Set TF_CPP_MIN_LOG_LEVEL=0 and rerun for more info.)\n"
          ],
          "name": "stderr"
        },
        {
          "output_type": "stream",
          "text": [
            "JAX devices:\n",
            "CpuDevice(id=0)\n",
            "Current folder content ['.config', 'nested-transformer', 'dog.jpg', 'sample_data']\n"
          ],
          "name": "stdout"
        }
      ]
    },
    {
      "cell_type": "markdown",
      "metadata": {
        "id": "jWy0Ly2SjSTn"
      },
      "source": [
        "## ImageNet"
      ]
    },
    {
      "cell_type": "markdown",
      "metadata": {
        "id": "tKcsxx-1KQdY"
      },
      "source": [
        "### Download checkpoints and load model"
      ]
    },
    {
      "cell_type": "code",
      "metadata": {
        "colab": {
          "base_uri": "https://localhost:8080/"
        },
        "id": "lyLvIDmnG3yb",
        "outputId": "b9ece506-b7b0-4ff5-94fe-8729e014c716"
      },
      "source": [
        "checkpoint_dir = \"./nested-transformer/checkpoints/\"\n",
        "remote_checkpoint_dir = \"gs://gresearch/nest-checkpoints/nest-b_imagenet\"\n",
        "print('List checkpoints: ')\n",
        "!gsutil ls \"$remote_checkpoint_dir\""
      ],
      "execution_count": 5,
      "outputs": [
        {
          "output_type": "stream",
          "text": [
            "List checkpoints: \n",
            "gs://gresearch/nest-checkpoints/nest-b_imagenet/checkpoint\n",
            "gs://gresearch/nest-checkpoints/nest-b_imagenet/ckpt-39.data-00000-of-00001\n",
            "gs://gresearch/nest-checkpoints/nest-b_imagenet/ckpt-39.flax\n",
            "gs://gresearch/nest-checkpoints/nest-b_imagenet/ckpt-39.index\n"
          ],
          "name": "stdout"
        }
      ]
    },
    {
      "cell_type": "code",
      "metadata": {
        "id": "UvD40I0iKv5Q",
        "colab": {
          "base_uri": "https://localhost:8080/"
        },
        "outputId": "944be2d5-c829-4ad0-9472-c1076e140dc1"
      },
      "source": [
        "print('Download checkpoints: ')\n",
        "!mkdir -p \"$checkpoint_dir\"\n",
        "!gsutil cp -r \"$remote_checkpoint_dir\" \"$checkpoint_dir\"."
      ],
      "execution_count": 6,
      "outputs": [
        {
          "output_type": "stream",
          "text": [
            "Download checkpoints: \n",
            "Copying gs://gresearch/nest-checkpoints/nest-b_imagenet/checkpoint...\n",
            "Copying gs://gresearch/nest-checkpoints/nest-b_imagenet/ckpt-39.data-00000-of-00001...\n",
            "Copying gs://gresearch/nest-checkpoints/nest-b_imagenet/ckpt-39.flax...\n",
            "Copying gs://gresearch/nest-checkpoints/nest-b_imagenet/ckpt-39.index...\n",
            "/ [4 files][775.1 MiB/775.1 MiB]   65.3 MiB/s                                   \n",
            "Operation completed over 4 objects/775.1 MiB.                                    \n"
          ],
          "name": "stdout"
        }
      ]
    },
    {
      "cell_type": "code",
      "metadata": {
        "colab": {
          "test": {
            "output": "ignore",
            "timeout": 60
          },
          "base_uri": "https://localhost:8080/"
        },
        "id": "h0fu0v2P3Vpg",
        "outputId": "a96754d2-d3dc-47d6-9392-7aa0de3295aa"
      },
      "source": [
        "# Use checkpoint of host 0.\n",
        "imagenet_config = imagenet_nest.get_config()\n",
        "\n",
        "state_dict = train.checkpoint.load_state_dict(\n",
        "    os.path.join(checkpoint_dir, os.path.basename(remote_checkpoint_dir)))\n",
        "variables = {\n",
        "    \"params\": state_dict[\"optimizer\"][\"target\"],\n",
        "}\n",
        "variables.update(state_dict[\"model_state\"])\n",
        "model_cls = nest_net.create_model(imagenet_config.model_name, imagenet_config)\n",
        "model = functools.partial(model_cls, num_classes=1000)"
      ],
      "execution_count": 7,
      "outputs": [
        {
          "output_type": "stream",
          "text": [
            "INFO:absl:load_state_dict ...\n",
            "INFO:absl:load_state_dict finished after 2.11s.\n"
          ],
          "name": "stderr"
        }
      ]
    },
    {
      "cell_type": "markdown",
      "metadata": {
        "id": "3WELtG-KKCt_"
      },
      "source": [
        "### Inference on a single image"
      ]
    },
    {
      "cell_type": "code",
      "metadata": {
        "id": "JahmbQu0KNsh",
        "colab": {
          "base_uri": "https://localhost:8080/",
          "height": 589
        },
        "outputId": "83e45160-ef0c-4ad4-ce89-0ccdc7d57b88"
      },
      "source": [
        "import PIL\n",
        "\n",
        "!wget https://picsum.photos/id/237/200/300 -O dog.jpg\n",
        "img = PIL.Image.open('dog.jpg')\n",
        "img"
      ],
      "execution_count": 9,
      "outputs": [
        {
          "output_type": "stream",
          "text": [
            "--2021-06-19 00:24:02--  https://picsum.photos/id/237/200/300\n",
            "Resolving picsum.photos (picsum.photos)... 172.67.74.163, 104.26.5.30, 104.26.4.30, ...\n",
            "Connecting to picsum.photos (picsum.photos)|172.67.74.163|:443... connected.\n",
            "HTTP request sent, awaiting response... 302 Found\n",
            "Location: https://i.picsum.photos/id/237/200/300.jpg?hmac=TmmQSbShHz9CdQm0NkEjx1Dyh_Y984R9LpNrpvH2D_U [following]\n",
            "--2021-06-19 00:24:02--  https://i.picsum.photos/id/237/200/300.jpg?hmac=TmmQSbShHz9CdQm0NkEjx1Dyh_Y984R9LpNrpvH2D_U\n",
            "Resolving i.picsum.photos (i.picsum.photos)... 104.26.5.30, 172.67.74.163, 104.26.4.30, ...\n",
            "Connecting to i.picsum.photos (i.picsum.photos)|104.26.5.30|:443... connected.\n",
            "HTTP request sent, awaiting response... 200 OK\n",
            "Length: 11531 (11K) [image/jpeg]\n",
            "Saving to: ‘dog.jpg’\n",
            "\n",
            "dog.jpg             100%[===================>]  11.26K  --.-KB/s    in 0s      \n",
            "\n",
            "2021-06-19 00:24:02 (72.3 MB/s) - ‘dog.jpg’ saved [11531/11531]\n",
            "\n"
          ],
          "name": "stdout"
        },
        {
          "output_type": "execute_result",
          "data": {
            "image/png": "[encoded data removed]",
            "text/plain": [
              "<PIL.JpegImagePlugin.JpegImageFile image mode=RGB size=200x300 at 0x7FF1018CBC90>"
            ]
          },
          "metadata": {
            "tags": []
          },
          "execution_count": 9
        }
      ]
    },
    {
      "cell_type": "code",
      "metadata": {
        "id": "kN9PQqZBKt4B",
        "colab": {
          "base_uri": "https://localhost:8080/"
        },
        "outputId": "88722a06-71b7-4cd3-a4ef-4cab1af0d22f"
      },
      "source": [
        "def predict(image):\n",
        "  logits = model(train=False).apply(variables, image, mutable=False)\n",
        "  # Return predicted class and confidence.\n",
        "  return logits.argmax(axis=-1), nn.softmax(logits, axis=-1).max(axis=-1)\n",
        "\n",
        "def _preprocess(image):\n",
        "  image = np.array(image.resize((224, 224))).astype(np.float32) / 255\n",
        "  mean = np.array(preprocess.IMAGENET_DEFAULT_MEAN).reshape(1, 1, 3)\n",
        "  std = np.array(preprocess.IMAGENET_DEFAULT_STD).reshape(1, 1, 3)\n",
        "  image = (image - mean) / std\n",
        "  return image[np.newaxis,...]\n",
        "\n",
        "input = _preprocess(img)\n",
        "\n",
        "cls, prob = predict(input)\n",
        "print(f'ImageNet class id: {cls[0]}, prob: {prob[0]}')"
      ],
      "execution_count": 10,
      "outputs": [
        {
          "output_type": "stream",
          "text": [
            "ImageNet class id: 208, prob: 0.8865696787834167\n"
          ],
          "name": "stdout"
        }
      ]
    },
    {
      "cell_type": "markdown",
      "metadata": {
        "id": "avCDtTVFjQSF"
      },
      "source": [
        "## CIFAR"
      ]
    },
    {
      "cell_type": "markdown",
      "metadata": {
        "id": "Dp2cRaOgpPwx"
      },
      "source": [
        "### Inspect input pipeline of CIFAR\n",
        "\n",
        "Use the cifar image augmentations"
      ]
    },
    {
      "cell_type": "code",
      "metadata": {
        "colab": {
          "test": {
            "output": "ignore",
            "timeout": 60
          },
          "base_uri": "https://localhost:8080/"
        },
        "id": "XP-y9SVD8Lar",
        "outputId": "97de5de6-d8a4-4b73-e408-2502a73ae83a"
      },
      "source": [
        "cifar_builder = tfds.builder(\"cifar10\")"
      ],
      "execution_count": 11,
      "outputs": [
        {
          "output_type": "stream",
          "text": [
            "INFO:absl:Load pre-computed DatasetInfo (eg: splits, num examples,...) from GCS: cifar10/3.0.2\n",
            "INFO:absl:Load dataset info from /tmp/tmp4sb0m419tfds\n",
            "INFO:absl:Field info.citation from disk and from code do not match. Keeping the one from code.\n",
            "INFO:absl:Field info.splits from disk and from code do not match. Keeping the one from code.\n",
            "INFO:absl:Field info.module_name from disk and from code do not match. Keeping the one from code.\n"
          ],
          "name": "stderr"
        }
      ]
    },
    {
      "cell_type": "code",
      "metadata": {
        "colab": {
          "test": {
            "output": "ignore",
            "timeout": 60
          },
          "base_uri": "https://localhost:8080/",
          "height": 1000,
          "referenced_widgets": [
            "fee2858f56a0410f9b0b5d67272907dc",
            "db945a5a2972430daaf46db127730018",
            "69c5c675a1024a07aff24cc6d61da62e",
            "a51679c7d1874d159737f24478f65df4",
            "b237cc13a89b4abd9981702c2c3ad7bd",
            "0162853d31334d4f862efa3ecc16b4ca",
            "9af6e0169522414d91e554da0ec3f932",
            "2edb00e2319e4a82aadf050a36374485",
            "d418ffa56a054078b5e51834397f5a3a",
            "222ad659fe8e4c5786ff2ff6343b097c",
            "e9ee94401e8e4ec391e6a0e8269f127c",
            "8fee994a72794963a03ec56c5171e558",
            "1268473b658c4db0a8b92c8ec10478d5",
            "e86522d3158b408d9ac44e564e146cc7",
            "0f0c2227da6549dea60f847cc06d454a",
            "6d69db18cf594beeb3ba9b5feb8b82d9",
            "2bd431bb5fa14d438dd843a13b82e2c5",
            "149e917e655741c28d8612aa4c8cbc79",
            "c5788c28bfd74bd4ac7f0ceba48fc568",
            "0d262ef8ae8e4f388e7ef36cdb972d05",
            "96203e84e9c644bb87ce8bdcc7ffd273",
            "17c58b6334354953b1755298739fa4ac",
            "474ea2795afd4a13b87782d5ebb1d119",
            "294040ebe4e04b5f851c7e70e727ab55",
            "93e7d939858648a08f628f60fac8de00",
            "70af1d1dbfc2487aa2279ea84ab8815b",
            "41a7f2be498048e78f4398e9d201b473",
            "88bee6c61e404ab48469b2060ade4408",
            "490addaad7904dd999674abed96c0218",
            "be78ad9d2fa74b799858430850439001",
            "9308a6548b484a2f9c7558ec0c9f035d",
            "46bf6413625840a5a0d98eaa743db2aa",
            "06f9a69eb2c342aeb276bb7e688bd131",
            "db0b8aae63f34d33a9ce32a8f00c81e7",
            "9fa21fbe66b74268a02528ffb6b9b94f",
            "44caa1fe4749486785759a45cbc6a91c",
            "079ad58bf6eb478d9396b4e6d6e94bc5",
            "9629850932ac44e8927cbc043845d888",
            "f5572d67d42543cdbf537875db80ec5d",
            "83ca4f53fec74a83a804681957597d17",
            "6577d614b16d4d9cb19a13fadd74eaab",
            "5cc20485533a4154a5b603209bc73947",
            "70eb82f1bdc646e58a6b8589d96ffbf8",
            "e7bec7677ac04fc98be08f6e7f0a73b5",
            "1b49920c1182420f9ecc605bbe2c5ea9",
            "07871d199032409da8a4f0644bce6d13",
            "1f23acd67a4c4a8bb84d2b4cee3449b4",
            "f8c6f4a38e3042cd80cbd6e9316564ce",
            "e09ae895eecb438d84d3c60033570b4f",
            "9f7f3fc24fd14fce87946eeed2a8f496",
            "72449312e9bd4ff292165cb4112e2829",
            "3ce7553b05b746ff9d2559d371392b0a",
            "e0bb64fa8b61439ea1d6fea0c35a7c3d",
            "5546c2d29a7d4d758d53b11f43fbf957",
            "8ac97a3083fd4c75999ff3ac705fb07a",
            "7c55674ec9104ef78ccaff71d59fbb53",
            "e67eada6451e4a7c8396b4372d22a1c0",
            "c1436af80c4d48b9b916c247ce12db45",
            "e6f81e65f13547ec9cf1a2e3d6c160f9",
            "206cb1bea08d4b33bb5bea602ee7fdd0",
            "6b86495136ac449099d388f06dd35135",
            "a0a76909bf78457e86e034fa59cb1806",
            "34c58b6f242243a1aee3cb7701785a91",
            "cefd7f2faded4816ab1c3a5d8a71f590"
          ]
        },
        "id": "b4jLdTfaGxY1",
        "outputId": "3f7a25ee-d67c-4afe-cb64-90839cea12c1"
      },
      "source": [
        "config = cifar_nest.get_config()\n",
        "# Do not apply MixUp or CutMix operations since tfds.visualization.show_examples \n",
        "# only accepts integer labels\n",
        "config.mix = None \n",
        "\n",
        "info, train_ds, eval_ds = input_pipeline.create_datasets(\n",
        "    config, jax.random.PRNGKey(0)\n",
        ")\n",
        "_ = tfds.visualization.show_examples(train_ds.unbatch().unbatch(), cifar_builder.info)"
      ],
      "execution_count": 12,
      "outputs": [
        {
          "output_type": "stream",
          "text": [
            "INFO:absl:Load pre-computed DatasetInfo (eg: splits, num examples,...) from GCS: cifar10/3.0.2\n",
            "INFO:absl:Load dataset info from /tmp/tmplmtmz7xctfds\n",
            "INFO:absl:Field info.citation from disk and from code do not match. Keeping the one from code.\n",
            "INFO:absl:Field info.splits from disk and from code do not match. Keeping the one from code.\n",
            "INFO:absl:Field info.module_name from disk and from code do not match. Keeping the one from code.\n",
            "INFO:absl:Generating dataset cifar10 (/root/tensorflow_datasets/cifar10/3.0.2)\n"
          ],
          "name": "stderr"
        },
        {
          "output_type": "stream",
          "text": [
            "\u001b[1mDownloading and preparing dataset 162.17 MiB (download: 162.17 MiB, generated: 132.40 MiB, total: 294.58 MiB) to /root/tensorflow_datasets/cifar10/3.0.2...\u001b[0m\n"
          ],
          "name": "stdout"
        },
        {
          "output_type": "display_data",
          "data": {
            "application/vnd.jupyter.widget-view+json": {
              "model_id": "fee2858f56a0410f9b0b5d67272907dc",
              "version_minor": 0,
              "version_major": 2
            },
            "text/plain": [
              "HBox(children=(FloatProgress(value=1.0, bar_style='info', description='Dl Completed...', max=1.0, style=Progre…"
            ]
          },
          "metadata": {
            "tags": []
          }
        },
        {
          "output_type": "display_data",
          "data": {
            "application/vnd.jupyter.widget-view+json": {
              "model_id": "d418ffa56a054078b5e51834397f5a3a",
              "version_minor": 0,
              "version_major": 2
            },
            "text/plain": [
              "HBox(children=(FloatProgress(value=1.0, bar_style='info', description='Dl Size...', max=1.0, style=ProgressSty…"
            ]
          },
          "metadata": {
            "tags": []
          }
        },
        {
          "output_type": "display_data",
          "data": {
            "application/vnd.jupyter.widget-view+json": {
              "model_id": "2bd431bb5fa14d438dd843a13b82e2c5",
              "version_minor": 0,
              "version_major": 2
            },
            "text/plain": [
              "HBox(children=(FloatProgress(value=1.0, bar_style='info', description='Extraction completed...', max=1.0, styl…"
            ]
          },
          "metadata": {
            "tags": []
          }
        },
        {
          "output_type": "stream",
          "text": [
            "INFO:absl:Downloading https://www.cs.toronto.edu/~kriz/cifar-10-binary.tar.gz into /root/tensorflow_datasets/downloads/cs.toronto.edu_kriz_cifar-10-binaryODHPtIjLh3oLcXirEISTO7dkzyKjRCuol6lV8Wc6C7s.tar.gz.tmp.3a777a74bc5e4505a39ec7a55d4a7649...\n"
          ],
          "name": "stderr"
        },
        {
          "output_type": "stream",
          "text": [
            "\n",
            "\n",
            "\n"
          ],
          "name": "stdout"
        },
        {
          "output_type": "display_data",
          "data": {
            "application/vnd.jupyter.widget-view+json": {
              "model_id": "93e7d939858648a08f628f60fac8de00",
              "version_minor": 0,
              "version_major": 2
            },
            "text/plain": [
              "HBox(children=(FloatProgress(value=0.0, description='Generating splits...', max=2.0, style=ProgressStyle(descr…"
            ]
          },
          "metadata": {
            "tags": []
          }
        },
        {
          "output_type": "display_data",
          "data": {
            "application/vnd.jupyter.widget-view+json": {
              "model_id": "06f9a69eb2c342aeb276bb7e688bd131",
              "version_minor": 0,
              "version_major": 2
            },
            "text/plain": [
              "HBox(children=(FloatProgress(value=0.0, description='Generating train examples...', max=50000.0, style=Progres…"
            ]
          },
          "metadata": {
            "tags": []
          }
        },
        {
          "output_type": "display_data",
          "data": {
            "application/vnd.jupyter.widget-view+json": {
              "model_id": "6577d614b16d4d9cb19a13fadd74eaab",
              "version_minor": 0,
              "version_major": 2
            },
            "text/plain": [
              "HBox(children=(FloatProgress(value=0.0, description='Shuffling cifar10-train.tfrecord...', max=50000.0, style=…"
            ]
          },
          "metadata": {
            "tags": []
          }
        },
        {
          "output_type": "stream",
          "text": [
            "INFO:absl:Done writing cifar10-train.tfrecord. Number of examples: 50000 (shards: [50000])\n"
          ],
          "name": "stderr"
        },
        {
          "output_type": "display_data",
          "data": {
            "application/vnd.jupyter.widget-view+json": {
              "model_id": "e09ae895eecb438d84d3c60033570b4f",
              "version_minor": 0,
              "version_major": 2
            },
            "text/plain": [
              "HBox(children=(FloatProgress(value=0.0, description='Generating test examples...', max=10000.0, style=Progress…"
            ]
          },
          "metadata": {
            "tags": []
          }
        },
        {
          "output_type": "display_data",
          "data": {
            "application/vnd.jupyter.widget-view+json": {
              "model_id": "e67eada6451e4a7c8396b4372d22a1c0",
              "version_minor": 0,
              "version_major": 2
            },
            "text/plain": [
              "HBox(children=(FloatProgress(value=0.0, description='Shuffling cifar10-test.tfrecord...', max=10000.0, style=P…"
            ]
          },
          "metadata": {
            "tags": []
          }
        },
        {
          "output_type": "stream",
          "text": [
            "INFO:absl:Done writing cifar10-test.tfrecord. Number of examples: 10000 (shards: [10000])\n",
            "/usr/local/lib/python3.7/dist-packages/jax/lib/xla_bridge.py:356: UserWarning: jax.host_id has been renamed to jax.process_index. This alias will eventually be removed; please update your code.\n",
            "  \"jax.host_id has been renamed to jax.process_index. This alias \"\n",
            "/usr/local/lib/python3.7/dist-packages/jax/lib/xla_bridge.py:369: UserWarning: jax.host_count has been renamed to jax.process_count. This alias will eventually be removed; please update your code.\n",
            "  \"jax.host_count has been renamed to jax.process_count. This alias \"\n",
            "INFO:absl:Configure augmentation type randaugment\n",
            "INFO:absl:Using augmentation randaugment with parameters {'cutout': False, 'magnitude': 9, 'magstd': 0.5, 'num_layers': 2, 'prob_to_apply': 0.5, 'size': 32}\n"
          ],
          "name": "stderr"
        },
        {
          "output_type": "stream",
          "text": [
            "\r\u001b[1mDataset cifar10 downloaded and prepared to /root/tensorflow_datasets/cifar10/3.0.2. Subsequent calls will reuse this data.\u001b[0m\n"
          ],
          "name": "stdout"
        },
        {
          "output_type": "stream",
          "text": [
            "INFO:absl:Constructing tf.data.Dataset cifar10 for split ReadInstruction([_RelativeInstruction(splitname='train', from_=0, to=50000, unit='abs', rounding='closest')]), from /root/tensorflow_datasets/cifar10/3.0.2\n"
          ],
          "name": "stderr"
        },
        {
          "output_type": "stream",
          "text": [
            "WARNING:tensorflow:From /usr/local/lib/python3.7/dist-packages/tensorflow/python/ops/array_ops.py:5049: calling gather (from tensorflow.python.ops.array_ops) with validate_indices is deprecated and will be removed in a future version.\n",
            "Instructions for updating:\n",
            "The `validate_indices` argument has no effect. Indices are always validated on CPU and never validated on GPU.\n"
          ],
          "name": "stdout"
        },
        {
          "output_type": "stream",
          "text": [
            "WARNING:tensorflow:From /usr/local/lib/python3.7/dist-packages/tensorflow/python/ops/array_ops.py:5049: calling gather (from tensorflow.python.ops.array_ops) with validate_indices is deprecated and will be removed in a future version.\n",
            "Instructions for updating:\n",
            "The `validate_indices` argument has no effect. Indices are always validated on CPU and never validated on GPU.\n",
            "INFO:absl:Constructing tf.data.Dataset cifar10 for split ReadInstruction([_RelativeInstruction(splitname='test', from_=0, to=10000, unit='abs', rounding='closest')]), from /root/tensorflow_datasets/cifar10/3.0.2\n",
            "WARNING:matplotlib.image:Clipping input data to the valid range for imshow with RGB data ([0..1] for floats or [0..255] for integers).\n",
            "WARNING:matplotlib.image:Clipping input data to the valid range for imshow with RGB data ([0..1] for floats or [0..255] for integers).\n",
            "WARNING:matplotlib.image:Clipping input data to the valid range for imshow with RGB data ([0..1] for floats or [0..255] for integers).\n",
            "WARNING:matplotlib.image:Clipping input data to the valid range for imshow with RGB data ([0..1] for floats or [0..255] for integers).\n",
            "WARNING:matplotlib.image:Clipping input data to the valid range for imshow with RGB data ([0..1] for floats or [0..255] for integers).\n",
            "WARNING:matplotlib.image:Clipping input data to the valid range for imshow with RGB data ([0..1] for floats or [0..255] for integers).\n",
            "WARNING:matplotlib.image:Clipping input data to the valid range for imshow with RGB data ([0..1] for floats or [0..255] for integers).\n",
            "WARNING:matplotlib.image:Clipping input data to the valid range for imshow with RGB data ([0..1] for floats or [0..255] for integers).\n",
            "WARNING:matplotlib.image:Clipping input data to the valid range for imshow with RGB data ([0..1] for floats or [0..255] for integers).\n"
          ],
          "name": "stderr"
        },
        {
          "output_type": "display_data",
          "data": {
            "image/png": "[encoded data removed]",
            "text/plain": [
              "<Figure size 648x648 with 9 Axes>"
            ]
          },
          "metadata": {
            "tags": []
          }
        }
      ]
    },
    {
      "cell_type": "markdown",
      "metadata": {
        "id": "I0uBxZGrELuJ"
      },
      "source": [
        "### Running a single training step on CIFAR\n"
      ]
    },
    {
      "cell_type": "code",
      "metadata": {
        "colab": {
          "test": {
            "output": "ignore",
            "timeout": 60
          }
        },
        "id": "-IOg8I3G_Wak"
      },
      "source": [
        "config = cifar_nest.get_config()\n",
        "config.num_train_steps = 1\n",
        "config.num_eval_steps = 1\n",
        "config.num_epochs = 1\n",
        "config.warmup_epochs = 0\n",
        "config.per_device_batch_size = 128 # Set to smaller batch size to avoid OOM\n",
        "workdir = f\"./nested-transformer/checkpoints/cifar_nest_colab_{int(time.time())}\""
      ],
      "execution_count": 13,
      "outputs": []
    },
    {
      "cell_type": "code",
      "metadata": {
        "id": "jU5hV7LDVVPP",
        "colab": {
          "base_uri": "https://localhost:8080/"
        },
        "outputId": "4760069b-0071-437e-8b0b-596201037600"
      },
      "source": [
        "# Re-create datasets with possibly updated config.\n",
        "info, train_ds, eval_ds = input_pipeline.create_datasets(\n",
        "    config, jax.random.PRNGKey(0)\n",
        ")"
      ],
      "execution_count": 14,
      "outputs": [
        {
          "output_type": "stream",
          "text": [
            "INFO:absl:Load dataset info from /root/tensorflow_datasets/cifar10/3.0.2\n",
            "INFO:absl:Reusing dataset cifar10 (/root/tensorflow_datasets/cifar10/3.0.2)\n",
            "/usr/local/lib/python3.7/dist-packages/jax/lib/xla_bridge.py:356: UserWarning: jax.host_id has been renamed to jax.process_index. This alias will eventually be removed; please update your code.\n",
            "  \"jax.host_id has been renamed to jax.process_index. This alias \"\n",
            "/usr/local/lib/python3.7/dist-packages/jax/lib/xla_bridge.py:369: UserWarning: jax.host_count has been renamed to jax.process_count. This alias will eventually be removed; please update your code.\n",
            "  \"jax.host_count has been renamed to jax.process_count. This alias \"\n",
            "INFO:absl:Configure augmentation type randaugment\n",
            "INFO:absl:Using augmentation randaugment with parameters {'cutout': False, 'magnitude': 9, 'magstd': 0.5, 'num_layers': 2, 'prob_to_apply': 0.5, 'size': 32}\n",
            "INFO:absl:Configure mix augmentation type {mixup_alpha: 0.8, prob_to_apply: 1.0, smoothing: 0.1}\n",
            "\n",
            "INFO:absl:Constructing tf.data.Dataset cifar10 for split ReadInstruction([_RelativeInstruction(splitname='train', from_=0, to=50000, unit='abs', rounding='closest')]), from /root/tensorflow_datasets/cifar10/3.0.2\n"
          ],
          "name": "stderr"
        },
        {
          "output_type": "stream",
          "text": [
            "WARNING:tensorflow:From /usr/local/lib/python3.7/dist-packages/tensorflow/python/autograph/impl/api.py:463: calling map_fn_v2 (from tensorflow.python.ops.map_fn) with back_prop=False is deprecated and will be removed in a future version.\n",
            "Instructions for updating:\n",
            "back_prop=False is deprecated. Consider using tf.stop_gradient instead.\n",
            "Instead of:\n",
            "results = tf.map_fn(fn, elems, back_prop=False)\n",
            "Use:\n",
            "results = tf.nest.map_structure(tf.stop_gradient, tf.map_fn(fn, elems))\n"
          ],
          "name": "stdout"
        },
        {
          "output_type": "stream",
          "text": [
            "WARNING:tensorflow:From /usr/local/lib/python3.7/dist-packages/tensorflow/python/autograph/impl/api.py:463: calling map_fn_v2 (from tensorflow.python.ops.map_fn) with back_prop=False is deprecated and will be removed in a future version.\n",
            "Instructions for updating:\n",
            "back_prop=False is deprecated. Consider using tf.stop_gradient instead.\n",
            "Instead of:\n",
            "results = tf.map_fn(fn, elems, back_prop=False)\n",
            "Use:\n",
            "results = tf.nest.map_structure(tf.stop_gradient, tf.map_fn(fn, elems))\n"
          ],
          "name": "stderr"
        },
        {
          "output_type": "stream",
          "text": [
            "WARNING:tensorflow:From /usr/local/lib/python3.7/dist-packages/tensorflow/python/util/deprecation.py:602: calling map_fn_v2 (from tensorflow.python.ops.map_fn) with dtype is deprecated and will be removed in a future version.\n",
            "Instructions for updating:\n",
            "Use fn_output_signature instead\n"
          ],
          "name": "stdout"
        },
        {
          "output_type": "stream",
          "text": [
            "WARNING:tensorflow:From /usr/local/lib/python3.7/dist-packages/tensorflow/python/util/deprecation.py:602: calling map_fn_v2 (from tensorflow.python.ops.map_fn) with dtype is deprecated and will be removed in a future version.\n",
            "Instructions for updating:\n",
            "Use fn_output_signature instead\n",
            "INFO:absl:Constructing tf.data.Dataset cifar10 for split ReadInstruction([_RelativeInstruction(splitname='test', from_=0, to=10000, unit='abs', rounding='closest')]), from /root/tensorflow_datasets/cifar10/3.0.2\n"
          ],
          "name": "stderr"
        }
      ]
    },
    {
      "cell_type": "code",
      "metadata": {
        "colab": {
          "test": {
            "output": "ignore",
            "timeout": 60
          },
          "base_uri": "https://localhost:8080/"
        },
        "id": "4A-XjzJA_Wao",
        "outputId": "2f401ee6-4602-4b55-eb45-78bec43611b9"
      },
      "source": [
        "train.train_and_evaluate(config, workdir)"
      ],
      "execution_count": 15,
      "outputs": [
        {
          "output_type": "stream",
          "text": [
            "INFO:absl:Load dataset info from /root/tensorflow_datasets/cifar10/3.0.2\n",
            "INFO:absl:Reusing dataset cifar10 (/root/tensorflow_datasets/cifar10/3.0.2)\n",
            "/usr/local/lib/python3.7/dist-packages/jax/lib/xla_bridge.py:356: UserWarning: jax.host_id has been renamed to jax.process_index. This alias will eventually be removed; please update your code.\n",
            "  \"jax.host_id has been renamed to jax.process_index. This alias \"\n",
            "/usr/local/lib/python3.7/dist-packages/jax/lib/xla_bridge.py:369: UserWarning: jax.host_count has been renamed to jax.process_count. This alias will eventually be removed; please update your code.\n",
            "  \"jax.host_count has been renamed to jax.process_count. This alias \"\n",
            "INFO:absl:Configure augmentation type randaugment\n",
            "INFO:absl:Using augmentation randaugment with parameters {'cutout': False, 'magnitude': 9, 'magstd': 0.5, 'num_layers': 2, 'prob_to_apply': 0.5, 'size': 32}\n",
            "INFO:absl:Configure mix augmentation type {mixup_alpha: 0.8, prob_to_apply: 1.0, smoothing: 0.1}\n",
            "\n",
            "INFO:absl:Constructing tf.data.Dataset cifar10 for split ReadInstruction([_RelativeInstruction(splitname='train', from_=0, to=50000, unit='abs', rounding='closest')]), from /root/tensorflow_datasets/cifar10/3.0.2\n",
            "INFO:absl:Constructing tf.data.Dataset cifar10 for split ReadInstruction([_RelativeInstruction(splitname='test', from_=0, to=10000, unit='abs', rounding='closest')]), from /root/tensorflow_datasets/cifar10/3.0.2\n",
            "INFO:absl:global_batch_size=128, num_train_steps=1, steps_per_epoch=1, eval_every_steps=5\n",
            "INFO:absl:\n",
            "+---------------------------------------------------------------+------------------+---------+-----------+--------+\n",
            "| Name                                                          | Shape            | Size    | Mean      | Std    |\n",
            "+---------------------------------------------------------------+------------------+---------+-----------+--------+\n",
            "| ConvPool_0/Conv_0/bias                                        | (192,)           | 192     | 0.0       | 0.0    |\n",
            "| ConvPool_0/Conv_0/kernel                                      | (3, 3, 192, 192) | 331,776 | 7.57e-05  | 0.0176 |\n",
            "| ConvPool_0/LayerNorm_0/bias                                   | (192,)           | 192     | 0.0       | 0.0    |\n",
            "| ConvPool_0/LayerNorm_0/scale                                  | (192,)           | 192     | 1.0       | 0.0    |\n",
            "| ConvPool_1/Conv_0/bias                                        | (192,)           | 192     | 0.0       | 0.0    |\n",
            "| ConvPool_1/Conv_0/kernel                                      | (3, 3, 192, 192) | 331,776 | 6.01e-05  | 0.0176 |\n",
            "| ConvPool_1/LayerNorm_0/bias                                   | (192,)           | 192     | 0.0       | 0.0    |\n",
            "| ConvPool_1/LayerNorm_0/scale                                  | (192,)           | 192     | 1.0       | 0.0    |\n",
            "| ConvPool_2/Conv_0/bias                                        | (192,)           | 192     | 0.0       | 0.0    |\n",
            "| ConvPool_2/Conv_0/kernel                                      | (3, 3, 192, 192) | 331,776 | -2.04e-05 | 0.0176 |\n",
            "| ConvPool_2/LayerNorm_0/bias                                   | (192,)           | 192     | 0.0       | 0.0    |\n",
            "| ConvPool_2/LayerNorm_0/scale                                  | (192,)           | 192     | 1.0       | 0.0    |\n",
            "| Dense_0/bias                                                  | (10,)            | 10      | 0.0       | 0.0    |\n",
            "| Dense_0/kernel                                                | (192, 10)        | 1,920   | 0.000134  | 0.0175 |\n",
            "| EncoderNDBlock_0/LayerNorm_0/bias                             | (192,)           | 192     | 0.0       | 0.0    |\n",
            "| EncoderNDBlock_0/LayerNorm_0/scale                            | (192,)           | 192     | 1.0       | 0.0    |\n",
            "| EncoderNDBlock_0/LayerNorm_1/bias                             | (192,)           | 192     | 0.0       | 0.0    |\n",
            "| EncoderNDBlock_0/LayerNorm_1/scale                            | (192,)           | 192     | 1.0       | 0.0    |\n",
            "| EncoderNDBlock_0/MlpBlock_0/Dense_0/bias                      | (768,)           | 768     | 0.0       | 0.0    |\n",
            "| EncoderNDBlock_0/MlpBlock_0/Dense_0/kernel                    | (192, 768)       | 147,456 | -4.43e-05 | 0.0176 |\n",
            "| EncoderNDBlock_0/MlpBlock_0/Dense_1/bias                      | (192,)           | 192     | 0.0       | 0.0    |\n",
            "| EncoderNDBlock_0/MlpBlock_0/Dense_1/kernel                    | (768, 192)       | 147,456 | -3.52e-05 | 0.0176 |\n",
            "| EncoderNDBlock_0/MultiQueryAttention_0/DenseGeneral_0/bias    | (3, 64)          | 192     | 0.0       | 0.0    |\n",
            "| EncoderNDBlock_0/MultiQueryAttention_0/DenseGeneral_0/kernel  | (192, 3, 64)     | 36,864  | -2.46e-05 | 0.0177 |\n",
            "| EncoderNDBlock_0/MultiQueryAttention_0/Dense_0/bias           | (128,)           | 128     | 0.0       | 0.0    |\n",
            "| EncoderNDBlock_0/MultiQueryAttention_0/Dense_0/kernel         | (192, 128)       | 24,576  | 3.25e-05  | 0.0176 |\n",
            "| EncoderNDBlock_0/MultiQueryAttention_0/bias                   | (192,)           | 192     | 0.0       | 0.0    |\n",
            "| EncoderNDBlock_0/MultiQueryAttention_0/proj_kernel            | (3, 64, 192)     | 36,864  | -9.14e-05 | 0.0176 |\n",
            "| EncoderNDBlock_1/LayerNorm_0/bias                             | (192,)           | 192     | 0.0       | 0.0    |\n",
            "| EncoderNDBlock_1/LayerNorm_0/scale                            | (192,)           | 192     | 1.0       | 0.0    |\n",
            "| EncoderNDBlock_1/LayerNorm_1/bias                             | (192,)           | 192     | 0.0       | 0.0    |\n",
            "| EncoderNDBlock_1/LayerNorm_1/scale                            | (192,)           | 192     | 1.0       | 0.0    |\n",
            "| EncoderNDBlock_1/MlpBlock_0/Dense_0/bias                      | (768,)           | 768     | 0.0       | 0.0    |\n",
            "| EncoderNDBlock_1/MlpBlock_0/Dense_0/kernel                    | (192, 768)       | 147,456 | -4.07e-05 | 0.0176 |\n",
            "| EncoderNDBlock_1/MlpBlock_0/Dense_1/bias                      | (192,)           | 192     | 0.0       | 0.0    |\n",
            "| EncoderNDBlock_1/MlpBlock_0/Dense_1/kernel                    | (768, 192)       | 147,456 | -7.86e-05 | 0.0175 |\n",
            "| EncoderNDBlock_1/MultiQueryAttention_0/DenseGeneral_0/bias    | (3, 64)          | 192     | 0.0       | 0.0    |\n",
            "| EncoderNDBlock_1/MultiQueryAttention_0/DenseGeneral_0/kernel  | (192, 3, 64)     | 36,864  | -6.74e-05 | 0.0177 |\n",
            "| EncoderNDBlock_1/MultiQueryAttention_0/Dense_0/bias           | (128,)           | 128     | 0.0       | 0.0    |\n",
            "| EncoderNDBlock_1/MultiQueryAttention_0/Dense_0/kernel         | (192, 128)       | 24,576  | -0.000144 | 0.0177 |\n",
            "| EncoderNDBlock_1/MultiQueryAttention_0/bias                   | (192,)           | 192     | 0.0       | 0.0    |\n",
            "| EncoderNDBlock_1/MultiQueryAttention_0/proj_kernel            | (3, 64, 192)     | 36,864  | -6.35e-05 | 0.0176 |\n",
            "| EncoderNDBlock_10/LayerNorm_0/bias                            | (192,)           | 192     | 0.0       | 0.0    |\n",
            "| EncoderNDBlock_10/LayerNorm_0/scale                           | (192,)           | 192     | 1.0       | 0.0    |\n",
            "| EncoderNDBlock_10/LayerNorm_1/bias                            | (192,)           | 192     | 0.0       | 0.0    |\n",
            "| EncoderNDBlock_10/LayerNorm_1/scale                           | (192,)           | 192     | 1.0       | 0.0    |\n",
            "| EncoderNDBlock_10/MlpBlock_0/Dense_0/bias                     | (768,)           | 768     | 0.0       | 0.0    |\n",
            "| EncoderNDBlock_10/MlpBlock_0/Dense_0/kernel                   | (192, 768)       | 147,456 | 3.8e-05   | 0.0176 |\n",
            "| EncoderNDBlock_10/MlpBlock_0/Dense_1/bias                     | (192,)           | 192     | 0.0       | 0.0    |\n",
            "| EncoderNDBlock_10/MlpBlock_0/Dense_1/kernel                   | (768, 192)       | 147,456 | 7.13e-05  | 0.0176 |\n",
            "| EncoderNDBlock_10/MultiQueryAttention_0/DenseGeneral_0/bias   | (3, 64)          | 192     | 0.0       | 0.0    |\n",
            "| EncoderNDBlock_10/MultiQueryAttention_0/DenseGeneral_0/kernel | (192, 3, 64)     | 36,864  | -0.000119 | 0.0176 |\n",
            "| EncoderNDBlock_10/MultiQueryAttention_0/Dense_0/bias          | (128,)           | 128     | 0.0       | 0.0    |\n",
            "| EncoderNDBlock_10/MultiQueryAttention_0/Dense_0/kernel        | (192, 128)       | 24,576  | -8.78e-05 | 0.0174 |\n",
            "| EncoderNDBlock_10/MultiQueryAttention_0/bias                  | (192,)           | 192     | 0.0       | 0.0    |\n",
            "| EncoderNDBlock_10/MultiQueryAttention_0/proj_kernel           | (3, 64, 192)     | 36,864  | -0.000107 | 0.0176 |\n",
            "| EncoderNDBlock_11/LayerNorm_0/bias                            | (192,)           | 192     | 0.0       | 0.0    |\n",
            "| EncoderNDBlock_11/LayerNorm_0/scale                           | (192,)           | 192     | 1.0       | 0.0    |\n",
            "| EncoderNDBlock_11/LayerNorm_1/bias                            | (192,)           | 192     | 0.0       | 0.0    |\n",
            "| EncoderNDBlock_11/LayerNorm_1/scale                           | (192,)           | 192     | 1.0       | 0.0    |\n",
            "| EncoderNDBlock_11/MlpBlock_0/Dense_0/bias                     | (768,)           | 768     | 0.0       | 0.0    |\n",
            "| EncoderNDBlock_11/MlpBlock_0/Dense_0/kernel                   | (192, 768)       | 147,456 | 1.7e-05   | 0.0176 |\n",
            "| EncoderNDBlock_11/MlpBlock_0/Dense_1/bias                     | (192,)           | 192     | 0.0       | 0.0    |\n",
            "| EncoderNDBlock_11/MlpBlock_0/Dense_1/kernel                   | (768, 192)       | 147,456 | -1.92e-05 | 0.0176 |\n",
            "| EncoderNDBlock_11/MultiQueryAttention_0/DenseGeneral_0/bias   | (3, 64)          | 192     | 0.0       | 0.0    |\n",
            "| EncoderNDBlock_11/MultiQueryAttention_0/DenseGeneral_0/kernel | (192, 3, 64)     | 36,864  | -4.01e-05 | 0.0176 |\n",
            "| EncoderNDBlock_11/MultiQueryAttention_0/Dense_0/bias          | (128,)           | 128     | 0.0       | 0.0    |\n",
            "| EncoderNDBlock_11/MultiQueryAttention_0/Dense_0/kernel        | (192, 128)       | 24,576  | 0.000141  | 0.0176 |\n",
            "| EncoderNDBlock_11/MultiQueryAttention_0/bias                  | (192,)           | 192     | 0.0       | 0.0    |\n",
            "| EncoderNDBlock_11/MultiQueryAttention_0/proj_kernel           | (3, 64, 192)     | 36,864  | 9.2e-05   | 0.0176 |\n",
            "| EncoderNDBlock_2/LayerNorm_0/bias                             | (192,)           | 192     | 0.0       | 0.0    |\n",
            "| EncoderNDBlock_2/LayerNorm_0/scale                            | (192,)           | 192     | 1.0       | 0.0    |\n",
            "| EncoderNDBlock_2/LayerNorm_1/bias                             | (192,)           | 192     | 0.0       | 0.0    |\n",
            "| EncoderNDBlock_2/LayerNorm_1/scale                            | (192,)           | 192     | 1.0       | 0.0    |\n",
            "| EncoderNDBlock_2/MlpBlock_0/Dense_0/bias                      | (768,)           | 768     | 0.0       | 0.0    |\n",
            "| EncoderNDBlock_2/MlpBlock_0/Dense_0/kernel                    | (192, 768)       | 147,456 | -2.29e-05 | 0.0176 |\n",
            "| EncoderNDBlock_2/MlpBlock_0/Dense_1/bias                      | (192,)           | 192     | 0.0       | 0.0    |\n",
            "INFO:absl:\n",
            "| EncoderNDBlock_2/MlpBlock_0/Dense_1/kernel                    | (768, 192)       | 147,456 | 4.43e-05  | 0.0176 |\n",
            "| EncoderNDBlock_2/MultiQueryAttention_0/DenseGeneral_0/bias    | (3, 64)          | 192     | 0.0       | 0.0    |\n",
            "| EncoderNDBlock_2/MultiQueryAttention_0/DenseGeneral_0/kernel  | (192, 3, 64)     | 36,864  | -8.5e-05  | 0.0175 |\n",
            "| EncoderNDBlock_2/MultiQueryAttention_0/Dense_0/bias           | (128,)           | 128     | 0.0       | 0.0    |\n",
            "| EncoderNDBlock_2/MultiQueryAttention_0/Dense_0/kernel         | (192, 128)       | 24,576  | -3.93e-05 | 0.0177 |\n",
            "| EncoderNDBlock_2/MultiQueryAttention_0/bias                   | (192,)           | 192     | 0.0       | 0.0    |\n",
            "| EncoderNDBlock_2/MultiQueryAttention_0/proj_kernel            | (3, 64, 192)     | 36,864  | 5.65e-05  | 0.0176 |\n",
            "| EncoderNDBlock_3/LayerNorm_0/bias                             | (192,)           | 192     | 0.0       | 0.0    |\n",
            "| EncoderNDBlock_3/LayerNorm_0/scale                            | (192,)           | 192     | 1.0       | 0.0    |\n",
            "| EncoderNDBlock_3/LayerNorm_1/bias                             | (192,)           | 192     | 0.0       | 0.0    |\n",
            "| EncoderNDBlock_3/LayerNorm_1/scale                            | (192,)           | 192     | 1.0       | 0.0    |\n",
            "| EncoderNDBlock_3/MlpBlock_0/Dense_0/bias                      | (768,)           | 768     | 0.0       | 0.0    |\n",
            "| EncoderNDBlock_3/MlpBlock_0/Dense_0/kernel                    | (192, 768)       | 147,456 | -4.91e-05 | 0.0176 |\n",
            "| EncoderNDBlock_3/MlpBlock_0/Dense_1/bias                      | (192,)           | 192     | 0.0       | 0.0    |\n",
            "| EncoderNDBlock_3/MlpBlock_0/Dense_1/kernel                    | (768, 192)       | 147,456 | -9.79e-06 | 0.0175 |\n",
            "| EncoderNDBlock_3/MultiQueryAttention_0/DenseGeneral_0/bias    | (3, 64)          | 192     | 0.0       | 0.0    |\n",
            "| EncoderNDBlock_3/MultiQueryAttention_0/DenseGeneral_0/kernel  | (192, 3, 64)     | 36,864  | -2.98e-05 | 0.0175 |\n",
            "| EncoderNDBlock_3/MultiQueryAttention_0/Dense_0/bias           | (128,)           | 128     | 0.0       | 0.0    |\n",
            "| EncoderNDBlock_3/MultiQueryAttention_0/Dense_0/kernel         | (192, 128)       | 24,576  | -9.08e-05 | 0.0175 |\n",
            "| EncoderNDBlock_3/MultiQueryAttention_0/bias                   | (192,)           | 192     | 0.0       | 0.0    |\n",
            "| EncoderNDBlock_3/MultiQueryAttention_0/proj_kernel            | (3, 64, 192)     | 36,864  | 0.000311  | 0.0176 |\n",
            "| EncoderNDBlock_4/LayerNorm_0/bias                             | (192,)           | 192     | 0.0       | 0.0    |\n",
            "| EncoderNDBlock_4/LayerNorm_0/scale                            | (192,)           | 192     | 1.0       | 0.0    |\n",
            "| EncoderNDBlock_4/LayerNorm_1/bias                             | (192,)           | 192     | 0.0       | 0.0    |\n",
            "| EncoderNDBlock_4/LayerNorm_1/scale                            | (192,)           | 192     | 1.0       | 0.0    |\n",
            "| EncoderNDBlock_4/MlpBlock_0/Dense_0/bias                      | (768,)           | 768     | 0.0       | 0.0    |\n",
            "| EncoderNDBlock_4/MlpBlock_0/Dense_0/kernel                    | (192, 768)       | 147,456 | -3.3e-05  | 0.0176 |\n",
            "| EncoderNDBlock_4/MlpBlock_0/Dense_1/bias                      | (192,)           | 192     | 0.0       | 0.0    |\n",
            "| EncoderNDBlock_4/MlpBlock_0/Dense_1/kernel                    | (768, 192)       | 147,456 | 9.76e-06  | 0.0176 |\n",
            "| EncoderNDBlock_4/MultiQueryAttention_0/DenseGeneral_0/bias    | (3, 64)          | 192     | 0.0       | 0.0    |\n",
            "| EncoderNDBlock_4/MultiQueryAttention_0/DenseGeneral_0/kernel  | (192, 3, 64)     | 36,864  | 1.41e-05  | 0.0177 |\n",
            "| EncoderNDBlock_4/MultiQueryAttention_0/Dense_0/bias           | (128,)           | 128     | 0.0       | 0.0    |\n",
            "| EncoderNDBlock_4/MultiQueryAttention_0/Dense_0/kernel         | (192, 128)       | 24,576  | 4.78e-05  | 0.0175 |\n",
            "| EncoderNDBlock_4/MultiQueryAttention_0/bias                   | (192,)           | 192     | 0.0       | 0.0    |\n",
            "| EncoderNDBlock_4/MultiQueryAttention_0/proj_kernel            | (3, 64, 192)     | 36,864  | 0.000271  | 0.0176 |\n",
            "| EncoderNDBlock_5/LayerNorm_0/bias                             | (192,)           | 192     | 0.0       | 0.0    |\n",
            "| EncoderNDBlock_5/LayerNorm_0/scale                            | (192,)           | 192     | 1.0       | 0.0    |\n",
            "| EncoderNDBlock_5/LayerNorm_1/bias                             | (192,)           | 192     | 0.0       | 0.0    |\n",
            "| EncoderNDBlock_5/LayerNorm_1/scale                            | (192,)           | 192     | 1.0       | 0.0    |\n",
            "| EncoderNDBlock_5/MlpBlock_0/Dense_0/bias                      | (768,)           | 768     | 0.0       | 0.0    |\n",
            "| EncoderNDBlock_5/MlpBlock_0/Dense_0/kernel                    | (192, 768)       | 147,456 | -3.26e-05 | 0.0176 |\n",
            "| EncoderNDBlock_5/MlpBlock_0/Dense_1/bias                      | (192,)           | 192     | 0.0       | 0.0    |\n",
            "| EncoderNDBlock_5/MlpBlock_0/Dense_1/kernel                    | (768, 192)       | 147,456 | -2.65e-05 | 0.0176 |\n",
            "| EncoderNDBlock_5/MultiQueryAttention_0/DenseGeneral_0/bias    | (3, 64)          | 192     | 0.0       | 0.0    |\n",
            "| EncoderNDBlock_5/MultiQueryAttention_0/DenseGeneral_0/kernel  | (192, 3, 64)     | 36,864  | -0.000181 | 0.0176 |\n",
            "| EncoderNDBlock_5/MultiQueryAttention_0/Dense_0/bias           | (128,)           | 128     | 0.0       | 0.0    |\n",
            "| EncoderNDBlock_5/MultiQueryAttention_0/Dense_0/kernel         | (192, 128)       | 24,576  | -0.00013  | 0.0177 |\n",
            "| EncoderNDBlock_5/MultiQueryAttention_0/bias                   | (192,)           | 192     | 0.0       | 0.0    |\n",
            "| EncoderNDBlock_5/MultiQueryAttention_0/proj_kernel            | (3, 64, 192)     | 36,864  | -4.3e-05  | 0.0176 |\n",
            "| EncoderNDBlock_6/LayerNorm_0/bias                             | (192,)           | 192     | 0.0       | 0.0    |\n",
            "| EncoderNDBlock_6/LayerNorm_0/scale                            | (192,)           | 192     | 1.0       | 0.0    |\n",
            "| EncoderNDBlock_6/LayerNorm_1/bias                             | (192,)           | 192     | 0.0       | 0.0    |\n",
            "| EncoderNDBlock_6/LayerNorm_1/scale                            | (192,)           | 192     | 1.0       | 0.0    |\n",
            "| EncoderNDBlock_6/MlpBlock_0/Dense_0/bias                      | (768,)           | 768     | 0.0       | 0.0    |\n",
            "| EncoderNDBlock_6/MlpBlock_0/Dense_0/kernel                    | (192, 768)       | 147,456 | -6.04e-05 | 0.0176 |\n",
            "| EncoderNDBlock_6/MlpBlock_0/Dense_1/bias                      | (192,)           | 192     | 0.0       | 0.0    |\n",
            "| EncoderNDBlock_6/MlpBlock_0/Dense_1/kernel                    | (768, 192)       | 147,456 | 5.92e-05  | 0.0176 |\n",
            "| EncoderNDBlock_6/MultiQueryAttention_0/DenseGeneral_0/bias    | (3, 64)          | 192     | 0.0       | 0.0    |\n",
            "| EncoderNDBlock_6/MultiQueryAttention_0/DenseGeneral_0/kernel  | (192, 3, 64)     | 36,864  | -0.000144 | 0.0176 |\n",
            "| EncoderNDBlock_6/MultiQueryAttention_0/Dense_0/bias           | (128,)           | 128     | 0.0       | 0.0    |\n",
            "| EncoderNDBlock_6/MultiQueryAttention_0/Dense_0/kernel         | (192, 128)       | 24,576  | -0.000105 | 0.0176 |\n",
            "| EncoderNDBlock_6/MultiQueryAttention_0/bias                   | (192,)           | 192     | 0.0       | 0.0    |\n",
            "| EncoderNDBlock_6/MultiQueryAttention_0/proj_kernel            | (3, 64, 192)     | 36,864  | -1.24e-05 | 0.0176 |\n",
            "| EncoderNDBlock_7/LayerNorm_0/bias                             | (192,)           | 192     | 0.0       | 0.0    |\n",
            "| EncoderNDBlock_7/LayerNorm_0/scale                            | (192,)           | 192     | 1.0       | 0.0    |\n",
            "| EncoderNDBlock_7/LayerNorm_1/bias                             | (192,)           | 192     | 0.0       | 0.0    |\n",
            "| EncoderNDBlock_7/LayerNorm_1/scale                            | (192,)           | 192     | 1.0       | 0.0    |\n",
            "| EncoderNDBlock_7/MlpBlock_0/Dense_0/bias                      | (768,)           | 768     | 0.0       | 0.0    |\n",
            "| EncoderNDBlock_7/MlpBlock_0/Dense_0/kernel                    | (192, 768)       | 147,456 | 2.83e-05  | 0.0176 |\n",
            "| EncoderNDBlock_7/MlpBlock_0/Dense_1/bias                      | (192,)           | 192     | 0.0       | 0.0    |\n",
            "| EncoderNDBlock_7/MlpBlock_0/Dense_1/kernel                    | (768, 192)       | 147,456 | 6.3e-05   | 0.0176 |\n",
            "| EncoderNDBlock_7/MultiQueryAttention_0/DenseGeneral_0/bias    | (3, 64)          | 192     | 0.0       | 0.0    |\n",
            "| EncoderNDBlock_7/MultiQueryAttention_0/DenseGeneral_0/kernel  | (192, 3, 64)     | 36,864  | -5.2e-05  | 0.0176 |\n",
            "| EncoderNDBlock_7/MultiQueryAttention_0/Dense_0/bias           | (128,)           | 128     | 0.0       | 0.0    |\n",
            "| EncoderNDBlock_7/MultiQueryAttention_0/Dense_0/kernel         | (192, 128)       | 24,576  | 0.000103  | 0.0176 |\n",
            "| EncoderNDBlock_7/MultiQueryAttention_0/bias                   | (192,)           | 192     | 0.0       | 0.0    |\n",
            "| EncoderNDBlock_7/MultiQueryAttention_0/proj_kernel            | (3, 64, 192)     | 36,864  | -8.39e-05 | 0.0176 |\n",
            "| EncoderNDBlock_8/LayerNorm_0/bias                             | (192,)           | 192     | 0.0       | 0.0    |\n",
            "| EncoderNDBlock_8/LayerNorm_0/scale                            | (192,)           | 192     | 1.0       | 0.0    |\n",
            "| EncoderNDBlock_8/LayerNorm_1/bias                             | (192,)           | 192     | 0.0       | 0.0    |\n",
            "INFO:absl:\n",
            "| EncoderNDBlock_8/LayerNorm_1/scale                            | (192,)           | 192     | 1.0       | 0.0    |\n",
            "| EncoderNDBlock_8/MlpBlock_0/Dense_0/bias                      | (768,)           | 768     | 0.0       | 0.0    |\n",
            "| EncoderNDBlock_8/MlpBlock_0/Dense_0/kernel                    | (192, 768)       | 147,456 | 7.48e-06  | 0.0176 |\n",
            "| EncoderNDBlock_8/MlpBlock_0/Dense_1/bias                      | (192,)           | 192     | 0.0       | 0.0    |\n",
            "| EncoderNDBlock_8/MlpBlock_0/Dense_1/kernel                    | (768, 192)       | 147,456 | -2.77e-05 | 0.0175 |\n",
            "| EncoderNDBlock_8/MultiQueryAttention_0/DenseGeneral_0/bias    | (3, 64)          | 192     | 0.0       | 0.0    |\n",
            "| EncoderNDBlock_8/MultiQueryAttention_0/DenseGeneral_0/kernel  | (192, 3, 64)     | 36,864  | -4.55e-05 | 0.0176 |\n",
            "| EncoderNDBlock_8/MultiQueryAttention_0/Dense_0/bias           | (128,)           | 128     | 0.0       | 0.0    |\n",
            "| EncoderNDBlock_8/MultiQueryAttention_0/Dense_0/kernel         | (192, 128)       | 24,576  | 8.08e-06  | 0.0176 |\n",
            "| EncoderNDBlock_8/MultiQueryAttention_0/bias                   | (192,)           | 192     | 0.0       | 0.0    |\n",
            "| EncoderNDBlock_8/MultiQueryAttention_0/proj_kernel            | (3, 64, 192)     | 36,864  | 6.56e-05  | 0.0176 |\n",
            "| EncoderNDBlock_9/LayerNorm_0/bias                             | (192,)           | 192     | 0.0       | 0.0    |\n",
            "| EncoderNDBlock_9/LayerNorm_0/scale                            | (192,)           | 192     | 1.0       | 0.0    |\n",
            "| EncoderNDBlock_9/LayerNorm_1/bias                             | (192,)           | 192     | 0.0       | 0.0    |\n",
            "| EncoderNDBlock_9/LayerNorm_1/scale                            | (192,)           | 192     | 1.0       | 0.0    |\n",
            "| EncoderNDBlock_9/MlpBlock_0/Dense_0/bias                      | (768,)           | 768     | 0.0       | 0.0    |\n",
            "| EncoderNDBlock_9/MlpBlock_0/Dense_0/kernel                    | (192, 768)       | 147,456 | -3.15e-05 | 0.0177 |\n",
            "| EncoderNDBlock_9/MlpBlock_0/Dense_1/bias                      | (192,)           | 192     | 0.0       | 0.0    |\n",
            "| EncoderNDBlock_9/MlpBlock_0/Dense_1/kernel                    | (768, 192)       | 147,456 | -5.74e-05 | 0.0176 |\n",
            "| EncoderNDBlock_9/MultiQueryAttention_0/DenseGeneral_0/bias    | (3, 64)          | 192     | 0.0       | 0.0    |\n",
            "| EncoderNDBlock_9/MultiQueryAttention_0/DenseGeneral_0/kernel  | (192, 3, 64)     | 36,864  | -1.03e-05 | 0.0176 |\n",
            "| EncoderNDBlock_9/MultiQueryAttention_0/Dense_0/bias           | (128,)           | 128     | 0.0       | 0.0    |\n",
            "| EncoderNDBlock_9/MultiQueryAttention_0/Dense_0/kernel         | (192, 128)       | 24,576  | 4.03e-05  | 0.0176 |\n",
            "| EncoderNDBlock_9/MultiQueryAttention_0/bias                   | (192,)           | 192     | 0.0       | 0.0    |\n",
            "| EncoderNDBlock_9/MultiQueryAttention_0/proj_kernel            | (3, 64, 192)     | 36,864  | 2.45e-05  | 0.0176 |\n",
            "| LayerNorm_0/bias                                              | (192,)           | 192     | 0.0       | 0.0    |\n",
            "| LayerNorm_0/scale                                             | (192,)           | 192     | 1.0       | 0.0    |\n",
            "| PatchEmbedding_0/Conv_0/bias                                  | (192,)           | 192     | 0.0       | 0.0    |\n",
            "| PatchEmbedding_0/Conv_0/kernel                                | (1, 1, 3, 192)   | 576     | -0.000802 | 0.0178 |\n",
            "| PositionEmbedding_0/pos_embedding                             | (1, 64, 16, 192) | 196,608 | 9.2e-06   | 0.0176 |\n",
            "| PositionEmbedding_1/pos_embedding                             | (1, 16, 16, 192) | 49,152  | -1.1e-05  | 0.0176 |\n",
            "| PositionEmbedding_2/pos_embedding                             | (1, 4, 16, 192)  | 12,288  | -0.000185 | 0.0175 |\n",
            "| PositionEmbedding_3/pos_embedding                             | (1, 1, 16, 192)  | 3,072   | 0.000262  | 0.0179 |\n",
            "+---------------------------------------------------------------+------------------+---------+-----------+--------+\n",
            "Total: 6,006,730\n",
            "INFO:absl:Checkpoint.restore_or_initialize() ...\n",
            "INFO:absl:No checkpoint specified. Restore the latest checkpoint.\n",
            "INFO:absl:MultihostCheckpoint.get_latest_checkpoint_to_restore_from() ...\n",
            "INFO:absl:MultihostCheckpoint.get_latest_checkpoint_to_restore_from() finished after 0.01s.\n",
            "INFO:absl:Checkpoint None does not exist.\n",
            "INFO:absl:Checkpoint.save() ...\n",
            "INFO:absl:Checkpoint.save() finished after 0.23s.\n",
            "INFO:absl:Checkpoint.restore_or_initialize() finished after 0.25s.\n",
            "INFO:absl:Hyperparameters: {'augment': randaugment_cutout: false\n",
            "randaugment_magnitude: 9\n",
            "randaugment_magstd: 0.5\n",
            "randaugment_num_layers: 2\n",
            "randaugment_prob_to_apply: 0.5\n",
            "size: 32\n",
            "type: randaugment\n",
            ", 'checkpoint_every_steps': 5000, 'dataset': 'cifar10', 'eval_every_steps': -1, 'eval_pad_last_batch': True, 'eval_per_epochs': 5, 'grad_clip_max_norm': 0, 'learning_rate': 0.00025, 'learning_rate_schedule': 'cosine', 'log_loss_every_steps': 500, 'mix': mixup_alpha: 0.8\n",
            "prob_to_apply: 1.0\n",
            "smoothing: 0.1\n",
            ", 'model_name': 'nest_tiny_s16_32', 'num_epochs': 1, 'num_eval_steps': 1, 'num_train_steps': 1, 'optim': 'adamw', 'optim_wd_ignore': ['pos_embedding'], 'per_device_batch_size': 128, 'randerasing': erase_prob: 0.25\n",
            ", 'seed': 42, 'shuffle_buffer_size': 10000, 'trial': 0, 'warmup_epochs': 0, 'weight_decay': 0.05}\n",
            "INFO:absl:Starting training loop at step 1.\n",
            "INFO:absl:train_step(batch={'image': Traced<ShapedArray(float32[128,32,32,3])>with<DynamicJaxprTrace(level=0/1)>, 'label': Traced<ShapedArray(float32[128,10])>with<DynamicJaxprTrace(level=0/1)>})\n",
            "INFO:absl:get_learning_rate(step=Traced<ShapedArray(int32[])>with<DynamicJaxprTrace(level=0/1)>, base_learning_rate=0.000125, steps_per_epoch=1, num_epochs=1\n",
            "INFO:absl:Finished training step 1.\n",
            "INFO:absl:[1] l2_grads=2.820636, learning_rate=0.000000, loss=2.367221, loss_std=0.000000, train_accuracy=0.109375\n",
            "INFO:absl:Starting evaluation.\n",
            "INFO:absl:eval_step(batch={'image': Traced<ShapedArray(float32[128,32,32,3])>with<DynamicJaxprTrace(level=0/1)>, 'label': Traced<ShapedArray(int32[128])>with<DynamicJaxprTrace(level=0/1)>, 'mask': Traced<ShapedArray(bool[128])>with<DynamicJaxprTrace(level=0/1)>})\n",
            "INFO:absl:[1] accuracy=0.070312, eval_loss=2.354828\n",
            "INFO:absl:Checkpoint.save() ...\n",
            "INFO:absl:Checkpoint.save() finished after 0.39s.\n",
            "INFO:absl:Finishing training at step 1\n"
          ],
          "name": "stderr"
        }
      ]
    }
  ]
}